{
 "cells": [
  {
   "cell_type": "code",
   "execution_count": 1,
   "metadata": {},
   "outputs": [
    {
     "name": "stdout",
     "output_type": "stream",
     "text": [
      "/home/abheesht/anaconda3/lib/python3.7/runpy.py:125: RuntimeWarning: 'nltk.downloader' found in sys.modules after import of package 'nltk', but prior to execution of 'nltk.downloader'; this may result in unpredictable behaviour\n",
      "  warn(RuntimeWarning(msg))\n",
      "[nltk_data] Downloading collection 'popular'\n",
      "[nltk_data]    | \n",
      "[nltk_data]    | Downloading package cmudict to\n",
      "[nltk_data]    |     /home/abheesht/nltk_data...\n",
      "[nltk_data]    |   Package cmudict is already up-to-date!\n",
      "[nltk_data]    | Downloading package gazetteers to\n",
      "[nltk_data]    |     /home/abheesht/nltk_data...\n",
      "[nltk_data]    |   Package gazetteers is already up-to-date!\n",
      "[nltk_data]    | Downloading package genesis to\n",
      "[nltk_data]    |     /home/abheesht/nltk_data...\n",
      "[nltk_data]    |   Package genesis is already up-to-date!\n",
      "[nltk_data]    | Downloading package gutenberg to\n",
      "[nltk_data]    |     /home/abheesht/nltk_data...\n",
      "[nltk_data]    |   Package gutenberg is already up-to-date!\n",
      "[nltk_data]    | Downloading package inaugural to\n",
      "[nltk_data]    |     /home/abheesht/nltk_data...\n",
      "[nltk_data]    |   Package inaugural is already up-to-date!\n",
      "[nltk_data]    | Downloading package movie_reviews to\n",
      "[nltk_data]    |     /home/abheesht/nltk_data...\n",
      "[nltk_data]    |   Package movie_reviews is already up-to-date!\n",
      "[nltk_data]    | Downloading package names to\n",
      "[nltk_data]    |     /home/abheesht/nltk_data...\n",
      "[nltk_data]    |   Package names is already up-to-date!\n",
      "[nltk_data]    | Downloading package shakespeare to\n",
      "[nltk_data]    |     /home/abheesht/nltk_data...\n",
      "[nltk_data]    |   Package shakespeare is already up-to-date!\n",
      "[nltk_data]    | Downloading package stopwords to\n",
      "[nltk_data]    |     /home/abheesht/nltk_data...\n",
      "[nltk_data]    |   Package stopwords is already up-to-date!\n",
      "[nltk_data]    | Downloading package treebank to\n",
      "[nltk_data]    |     /home/abheesht/nltk_data...\n",
      "[nltk_data]    |   Package treebank is already up-to-date!\n",
      "[nltk_data]    | Downloading package twitter_samples to\n",
      "[nltk_data]    |     /home/abheesht/nltk_data...\n",
      "[nltk_data]    |   Package twitter_samples is already up-to-date!\n",
      "[nltk_data]    | Downloading package omw to\n",
      "[nltk_data]    |     /home/abheesht/nltk_data...\n",
      "[nltk_data]    |   Package omw is already up-to-date!\n",
      "[nltk_data]    | Downloading package wordnet to\n",
      "[nltk_data]    |     /home/abheesht/nltk_data...\n",
      "[nltk_data]    |   Package wordnet is already up-to-date!\n",
      "[nltk_data]    | Downloading package wordnet_ic to\n",
      "[nltk_data]    |     /home/abheesht/nltk_data...\n",
      "[nltk_data]    |   Package wordnet_ic is already up-to-date!\n",
      "[nltk_data]    | Downloading package words to\n",
      "[nltk_data]    |     /home/abheesht/nltk_data...\n",
      "[nltk_data]    |   Package words is already up-to-date!\n",
      "[nltk_data]    | Downloading package maxent_ne_chunker to\n",
      "[nltk_data]    |     /home/abheesht/nltk_data...\n",
      "[nltk_data]    |   Package maxent_ne_chunker is already up-to-date!\n",
      "[nltk_data]    | Downloading package punkt to\n",
      "[nltk_data]    |     /home/abheesht/nltk_data...\n",
      "[nltk_data]    |   Package punkt is already up-to-date!\n",
      "[nltk_data]    | Downloading package snowball_data to\n",
      "[nltk_data]    |     /home/abheesht/nltk_data...\n",
      "[nltk_data]    |   Package snowball_data is already up-to-date!\n",
      "[nltk_data]    | Downloading package averaged_perceptron_tagger to\n",
      "[nltk_data]    |     /home/abheesht/nltk_data...\n",
      "[nltk_data]    |   Package averaged_perceptron_tagger is already up-\n",
      "[nltk_data]    |       to-date!\n",
      "[nltk_data]    | \n",
      "[nltk_data]  Done downloading collection popular\n",
      "Requirement already up-to-date: pywsd in /home/abheesht/anaconda3/lib/python3.7/site-packages (1.2.4)\n",
      "Requirement already satisfied, skipping upgrade: six in /home/abheesht/anaconda3/lib/python3.7/site-packages (from pywsd) (1.14.0)\n",
      "Requirement already satisfied, skipping upgrade: wn in /home/abheesht/anaconda3/lib/python3.7/site-packages (from pywsd) (0.0.23)\n",
      "Requirement already satisfied, skipping upgrade: nltk in /home/abheesht/anaconda3/lib/python3.7/site-packages (from pywsd) (3.4.5)\n",
      "Requirement already satisfied, skipping upgrade: numpy in /home/abheesht/anaconda3/lib/python3.7/site-packages (from pywsd) (1.18.1)\n",
      "Requirement already satisfied, skipping upgrade: pandas in /home/abheesht/anaconda3/lib/python3.7/site-packages (from pywsd) (1.0.1)\n",
      "Requirement already satisfied, skipping upgrade: python-dateutil>=2.6.1 in /home/abheesht/anaconda3/lib/python3.7/site-packages (from pandas->pywsd) (2.8.1)\n",
      "Requirement already satisfied, skipping upgrade: pytz>=2017.2 in /home/abheesht/anaconda3/lib/python3.7/site-packages (from pandas->pywsd) (2019.3)\n"
     ]
    }
   ],
   "source": [
    "!python -m nltk.downloader 'popular'\n",
    "!pip install -U pywsd"
   ]
  },
  {
   "cell_type": "code",
   "execution_count": 2,
   "metadata": {},
   "outputs": [
    {
     "name": "stdout",
     "output_type": "stream",
     "text": [
      "['/home/abheesht/Academics/Research/SemEval/ReCAM/src/notebooks', '/home/abheesht/anaconda3/lib/python37.zip', '/home/abheesht/anaconda3/lib/python3.7', '/home/abheesht/anaconda3/lib/python3.7/lib-dynload', '', '/home/abheesht/anaconda3/lib/python3.7/site-packages', '/home/abheesht/anaconda3/lib/python3.7/site-packages/IPython/extensions', '/home/abheesht/.ipython', '../..', '../../src/non-specificity']\n"
     ]
    }
   ],
   "source": [
    "# import packages\n",
    "import sys\n",
    "import json\n",
    "import jsonlines\n",
    "sys.path.append('../..')\n",
    "sys.path.append('../../src/non-specificity')\n",
    "print(sys.path)"
   ]
  },
  {
   "cell_type": "code",
   "execution_count": 3,
   "metadata": {},
   "outputs": [
    {
     "name": "stderr",
     "output_type": "stream",
     "text": [
      "[nltk_data] Downloading package wordnet to /home/abheesht/nltk_data...\n",
      "[nltk_data]   Package wordnet is already up-to-date!\n",
      "Warming up PyWSD (takes ~10 secs)... took 4.3192994594573975 secs.\n"
     ]
    }
   ],
   "source": [
    "from hypernym.augment import augment"
   ]
  },
  {
   "cell_type": "code",
   "execution_count": 4,
   "metadata": {},
   "outputs": [],
   "source": [
    "def read_recam(path,lst):\n",
    "    with open(path, mode='r') as f:\n",
    "        reader = jsonlines.Reader(f)\n",
    "        for instance in reader:\n",
    "            lst.append(instance)"
   ]
  },
  {
   "cell_type": "code",
   "execution_count": 5,
   "metadata": {},
   "outputs": [
    {
     "name": "stdout",
     "output_type": "stream",
     "text": [
      "Number of samples: 4169\n"
     ]
    }
   ],
   "source": [
    "# load the dataset in a list\n",
    "lst = []\n",
    "read_recam('../../data/Non-Specificity/training_data/Task_2_train.jsonl',lst)\n",
    "read_recam('../../data/Non-Specificity/training_data/Task_2_dev.jsonl',lst)\n",
    "print(\"Number of samples: \" + str(len(lst)))"
   ]
  },
  {
   "cell_type": "code",
   "execution_count": 6,
   "metadata": {},
   "outputs": [],
   "source": [
    "aug_data = open('../../data/Non-Specificity/aug/data.txt','w')"
   ]
  },
  {
   "cell_type": "code",
   "execution_count": null,
   "metadata": {},
   "outputs": [],
   "source": [
    "for i,sample in enumerate(lst):\n",
    "    article = sample['article']\n",
    "    augs = augment(article)\n",
    "    augs = [text+'\\n' for text in augs]\n",
    "    aug_data.writelines(augs)\n",
    "    \n",
    "aug_data.close()  "
   ]
  },
  {
   "cell_type": "code",
   "execution_count": null,
   "metadata": {},
   "outputs": [],
   "source": []
  }
 ],
 "metadata": {
  "kernelspec": {
   "display_name": "Python 3",
   "language": "python",
   "name": "python3"
  },
  "language_info": {
   "codemirror_mode": {
    "name": "ipython",
    "version": 3
   },
   "file_extension": ".py",
   "mimetype": "text/x-python",
   "name": "python",
   "nbconvert_exporter": "python",
   "pygments_lexer": "ipython3",
   "version": "3.7.6"
  }
 },
 "nbformat": 4,
 "nbformat_minor": 4
}
