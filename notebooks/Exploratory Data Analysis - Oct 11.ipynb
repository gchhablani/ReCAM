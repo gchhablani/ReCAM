{
 "cells": [
  {
   "cell_type": "code",
   "execution_count": 109,
   "metadata": {},
   "outputs": [],
   "source": [
    "import pandas as pd\n",
    "import nltk\n",
    "from nltk.corpus import stopwords\n",
    "from nltk.tokenize import word_tokenize\n",
    "from collections import Counter\n",
    "import wordcloud\n",
    "import numpy as np\n",
    "import re"
   ]
  },
  {
   "cell_type": "code",
   "execution_count": 110,
   "metadata": {},
   "outputs": [],
   "source": [
    "DATA_DIR = '../data'\n",
    "TRAIN_DATA_DIR = DATA_DIR+'/train'\n",
    "T1_TRAIN = TRAIN_DATA_DIR+'/Task_1_train.jsonl'\n",
    "T1_DEV = TRAIN_DATA_DIR+'/Task_1_dev.jsonl'\n",
    "T2_TRAIN = TRAIN_DATA_DIR+'/Task_2_train.jsonl'\n",
    "T2_DEV = TRAIN_DATA_DIR+'/Task_2_dev.jsonl'"
   ]
  },
  {
   "cell_type": "code",
   "execution_count": 111,
   "metadata": {},
   "outputs": [],
   "source": [
    "all_files = [T1_TRAIN,T1_DEV,T2_TRAIN,T2_DEV]"
   ]
  },
  {
   "cell_type": "markdown",
   "metadata": {},
   "source": [
    "## Statistics"
   ]
  },
  {
   "cell_type": "code",
   "execution_count": 112,
   "metadata": {},
   "outputs": [
    {
     "name": "stdout",
     "output_type": "stream",
     "text": [
      "====================================================================\n",
      "Name:  ../data/train/Task_1_train.jsonl\n",
      "Samples:  3227\n",
      "Duplicates:  0\n",
      "==============================\n",
      "Article Related\n",
      "==============================\n",
      "Duplicates:  57\n",
      "Mean Char Count:  1548.4697861791137\n",
      "Std Char Count:  905.3006128172633\n",
      "Max Char Count:  10177\n",
      "Min Char Count:  162\n",
      "Mean Word Count:  262.4400371862411\n",
      "Std Word Count:  154.53378793692275\n",
      "Max Word Count:  1754\n",
      "Min Word Count:  31\n",
      "==============================\n",
      "Question Related\n",
      "==============================\n",
      "Duplicates:  0\n",
      "Mean Char Count:  137.82646420824295\n",
      "Std Char Count:  31.117066022982975\n",
      "Max Char Count:  389\n",
      "Min Char Count:  32\n",
      "Mean Word Count:  24.677099473194918\n",
      "Std Word Count:  6.1845340781764495\n",
      "Max Word Count:  73\n",
      "Min Word Count:  6\n",
      "====================================================================\n",
      "Name:  ../data/train/Task_1_dev.jsonl\n",
      "Samples:  837\n",
      "Duplicates:  0\n",
      "==============================\n",
      "Article Related\n",
      "==============================\n",
      "Duplicates:  4\n",
      "Mean Char Count:  1582.7909199522103\n",
      "Std Char Count:  992.3331301339654\n",
      "Max Char Count:  9563\n",
      "Min Char Count:  255\n",
      "Mean Word Count:  268.60812425328555\n",
      "Std Word Count:  171.25288900142337\n",
      "Max Word Count:  1641\n",
      "Min Word Count:  41\n",
      "==============================\n",
      "Question Related\n",
      "==============================\n",
      "Duplicates:  0\n",
      "Mean Char Count:  137.4551971326165\n",
      "Std Char Count:  30.680939680524645\n",
      "Max Char Count:  387\n",
      "Min Char Count:  48\n",
      "Mean Word Count:  24.469534050179213\n",
      "Std Word Count:  6.046121885506554\n",
      "Max Word Count:  73\n",
      "Min Word Count:  9\n",
      "====================================================================\n",
      "Name:  ../data/train/Task_2_train.jsonl\n",
      "Samples:  3318\n",
      "Duplicates:  0\n",
      "==============================\n",
      "Article Related\n",
      "==============================\n",
      "Duplicates:  55\n",
      "Mean Char Count:  2448.9321880650996\n",
      "Std Char Count:  1788.4184273912836\n",
      "Max Char Count:  10370\n",
      "Min Char Count:  169\n",
      "Mean Word Count:  417.7269439421338\n",
      "Std Word Count:  307.2475120293732\n",
      "Max Word Count:  1700\n",
      "Min Word Count:  31\n",
      "==============================\n",
      "Question Related\n",
      "==============================\n",
      "Duplicates:  1\n",
      "Mean Char Count:  148.23387582881253\n",
      "Std Char Count:  47.749366103932225\n",
      "Max Char Count:  443\n",
      "Min Char Count:  31\n",
      "Mean Word Count:  26.88517179023508\n",
      "Std Word Count:  9.182195129809287\n",
      "Max Word Count:  83\n",
      "Min Word Count:  7\n",
      "====================================================================\n",
      "Name:  ../data/train/Task_2_dev.jsonl\n",
      "Samples:  851\n",
      "Duplicates:  0\n",
      "==============================\n",
      "Article Related\n",
      "==============================\n",
      "Duplicates:  2\n",
      "Mean Char Count:  2501.406580493537\n",
      "Std Char Count:  1809.545369397955\n",
      "Max Char Count:  9628\n",
      "Min Char Count:  247\n",
      "Mean Word Count:  427.04817861339603\n",
      "Std Word Count:  310.99437298612264\n",
      "Max Word Count:  1651\n",
      "Min Word Count:  45\n",
      "==============================\n",
      "Question Related\n",
      "==============================\n",
      "Duplicates:  0\n",
      "Mean Char Count:  149.38542890716803\n",
      "Std Char Count:  46.903525257182075\n",
      "Max Char Count:  413\n",
      "Min Char Count:  37\n",
      "Mean Word Count:  27.212690951821386\n",
      "Std Word Count:  9.161588799902264\n",
      "Max Word Count:  83\n",
      "Min Word Count:  6\n"
     ]
    }
   ],
   "source": [
    "for fil in all_files:\n",
    "    print(\"=\"*68)\n",
    "    print(\"Name: \",fil)\n",
    "    df = pd.read_json(fil,lines=True) ## Can also use jsonlines to read\n",
    "    print(\"Samples: \",df.shape[0])\n",
    "    print(\"Duplicates: \",df[df.duplicated()].shape[0])\n",
    "    \n",
    "        \n",
    "    print(\"=\"*30)\n",
    "    print(\"Article Related\")\n",
    "    print(\"=\"*30)\n",
    "    \n",
    "    print(\"Duplicates: \",df[df[['article']].duplicated()].shape[0])\n",
    "    article_char_length = df['article'].apply(lambda x : len(x))\n",
    "    print(\"Mean Char Count: \",article_char_length.mean())\n",
    "    print(\"Std Char Count: \",article_char_length.std())\n",
    "    print(\"Max Char Count: \",article_char_length.max())\n",
    "    print(\"Min Char Count: \",article_char_length.min())\n",
    "    \n",
    "    article_word_length = df['article'].apply(lambda x : len(x.split()))\n",
    "    print(\"Mean Word Count: \",article_word_length.mean())\n",
    "    print(\"Std Word Count: \",article_word_length.std())\n",
    "    print(\"Max Word Count: \",article_word_length.max())\n",
    "    print(\"Min Word Count: \",article_word_length.min())\n",
    "    \n",
    "    print(\"=\"*30)\n",
    "    print(\"Question Related\")\n",
    "    print(\"=\"*30)\n",
    "    print(\"Duplicates: \",df[df[['question']].duplicated()].shape[0])\n",
    "    question_char_length = df['question'].apply(lambda x : len(x))\n",
    "    print(\"Mean Char Count: \",question_char_length.mean())\n",
    "    print(\"Std Char Count: \",question_char_length.std())\n",
    "    print(\"Max Char Count: \",question_char_length.max())\n",
    "    print(\"Min Char Count: \",question_char_length.min())\n",
    "    \n",
    "    question_word_length = df['question'].apply(lambda x : len(x.split()))\n",
    "    print(\"Mean Word Count: \",question_word_length.mean())\n",
    "    print(\"Std Word Count: \",question_word_length.std())\n",
    "    print(\"Max Word Count: \",question_word_length.max())\n",
    "    print(\"Min Word Count: \",question_word_length.min())"
   ]
  },
  {
   "cell_type": "markdown",
   "metadata": {},
   "source": [
    "## Most Freq Tokens"
   ]
  },
  {
   "cell_type": "code",
   "execution_count": 113,
   "metadata": {},
   "outputs": [],
   "source": [
    "sw = set(stopwords.words('english'))"
   ]
  },
  {
   "cell_type": "code",
   "execution_count": 121,
   "metadata": {},
   "outputs": [],
   "source": [
    "df = pd.read_json(T1_TRAIN,lines=True)\n",
    "df['article']=df['article'].apply(lambda x : x.lower())\n",
    "text = df['article'].apply(lambda x: re.sub('[^a-zA-z0-9\\s]','',x))\n",
    "text = text.apply(lambda x : word_tokenize(x))\n",
    "text = text.apply(lambda x: np.array([y.lower() for y in x if y.lower() not in sw])).values\n",
    "tokencount = {}\n",
    "for split_sentence in text:\n",
    "    for token in split_sentence:\n",
    "        if(token in tokencount):\n",
    "            tokencount[token]+=1\n",
    "        else:\n",
    "            tokencount[token]=1\n",
    "print(\"Unique Token Count: \",len(tokencount))\n",
    "print(\"Most Common Words\")\n",
    "print(\"=\"*30)\n",
    "token_counter = Counter(tokencount)\n",
    "total_count = np.sum(list(tokencount.values()))\n",
    "for token,count in token_counter.most_common(20):\n",
    "    print(f\"{token}: {count}, {count/total_count}\")"
   ]
  },
  {
   "cell_type": "code",
   "execution_count": 122,
   "metadata": {},
   "outputs": [],
   "source": []
  },
  {
   "cell_type": "code",
   "execution_count": 123,
   "metadata": {},
   "outputs": [],
   "source": []
  },
  {
   "cell_type": "code",
   "execution_count": 124,
   "metadata": {},
   "outputs": [],
   "source": []
  },
  {
   "cell_type": "code",
   "execution_count": 130,
   "metadata": {},
   "outputs": [
    {
     "name": "stdout",
     "output_type": "stream",
     "text": [
      "Unique Token Count:  41087\n",
      "Most Common Words\n",
      "==============================\n",
      "said: 7978, 0.016527418983951127\n",
      "mr: 2465, 0.005106553997924233\n",
      "would: 2194, 0.0045451438018035565\n",
      "also: 2019, 0.004182609542316034\n",
      "people: 1897, 0.003929871372844734\n",
      "one: 1705, 0.0035321194995784244\n",
      "last: 1461, 0.003026643160635823\n",
      "two: 1349, 0.002794621234563809\n",
      "first: 1344, 0.002784263112864166\n",
      "new: 1341, 0.0027780482398443796\n",
      "year: 1262, 0.0026143899169900125\n",
      "years: 1248, 0.002585387176231011\n",
      "could: 1222, 0.002531524943392865\n",
      "told: 1203, 0.0024921640809342197\n",
      "us: 1187, 0.0024590180914953606\n",
      "time: 1159, 0.002401012609977357\n",
      "government: 1036, 0.0021462028161661276\n",
      "made: 940, 0.001947326879532973\n",
      "bbc: 894, 0.0018520321598962531\n",
      "police: 892, 0.0018478889112163957\n"
     ]
    }
   ],
   "source": []
  },
  {
   "cell_type": "markdown",
   "metadata": {},
   "source": [
    "### WordCloud"
   ]
  },
  {
   "cell_type": "code",
   "execution_count": 40,
   "metadata": {},
   "outputs": [
    {
     "name": "stdout",
     "output_type": "stream",
     "text": [
      "Collecting wordcloud\n",
      "  Downloading wordcloud-1.8.0-cp38-cp38-manylinux1_x86_64.whl (372 kB)\n",
      "\u001b[K     |████████████████████████████████| 372 kB 125 kB/s eta 0:00:01\n",
      "\u001b[?25hRequirement already satisfied: matplotlib in /home/crocoder/anaconda3/lib/python3.8/site-packages (from wordcloud) (3.2.2)\n",
      "Requirement already satisfied: pillow in /home/crocoder/anaconda3/lib/python3.8/site-packages (from wordcloud) (7.2.0)\n",
      "Requirement already satisfied: numpy>=1.6.1 in /home/crocoder/anaconda3/lib/python3.8/site-packages (from wordcloud) (1.18.5)\n",
      "Requirement already satisfied: pyparsing!=2.0.4,!=2.1.2,!=2.1.6,>=2.0.1 in /home/crocoder/anaconda3/lib/python3.8/site-packages (from matplotlib->wordcloud) (2.4.7)\n",
      "Requirement already satisfied: python-dateutil>=2.1 in /home/crocoder/anaconda3/lib/python3.8/site-packages (from matplotlib->wordcloud) (2.8.1)\n",
      "Requirement already satisfied: cycler>=0.10 in /home/crocoder/anaconda3/lib/python3.8/site-packages (from matplotlib->wordcloud) (0.10.0)\n",
      "Requirement already satisfied: kiwisolver>=1.0.1 in /home/crocoder/anaconda3/lib/python3.8/site-packages (from matplotlib->wordcloud) (1.2.0)\n",
      "Requirement already satisfied: six>=1.5 in /home/crocoder/anaconda3/lib/python3.8/site-packages (from python-dateutil>=2.1->matplotlib->wordcloud) (1.15.0)\n",
      "Installing collected packages: wordcloud\n",
      "Successfully installed wordcloud-1.8.0\n"
     ]
    }
   ],
   "source": []
  },
  {
   "cell_type": "code",
   "execution_count": null,
   "metadata": {},
   "outputs": [],
   "source": []
  }
 ],
 "metadata": {
  "kernelspec": {
   "display_name": "Python 3",
   "language": "python",
   "name": "python3"
  },
  "language_info": {
   "codemirror_mode": {
    "name": "ipython",
    "version": 3
   },
   "file_extension": ".py",
   "mimetype": "text/x-python",
   "name": "python",
   "nbconvert_exporter": "python",
   "pygments_lexer": "ipython3",
   "version": "3.8.3"
  }
 },
 "nbformat": 4,
 "nbformat_minor": 4
}
