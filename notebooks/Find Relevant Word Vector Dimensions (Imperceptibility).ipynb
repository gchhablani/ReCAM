{
  "nbformat": 4,
  "nbformat_minor": 0,
  "metadata": {
    "colab": {
      "name": "Find Relevant Word Vector Dimensions (Imperceptibility).ipynb",
      "provenance": [],
      "collapsed_sections": [],
      "machine_shape": "hm"
    },
    "kernelspec": {
      "name": "python3",
      "display_name": "Python 3"
    },
    "accelerator": "GPU",
    "widgets": {
      "application/vnd.jupyter.widget-state+json": {
        "003293e8e8ef41218accbb9576023e49": {
          "model_module": "@jupyter-widgets/controls",
          "model_name": "HBoxModel",
          "state": {
            "_view_name": "HBoxView",
            "_dom_classes": [],
            "_model_name": "HBoxModel",
            "_view_module": "@jupyter-widgets/controls",
            "_model_module_version": "1.5.0",
            "_view_count": null,
            "_view_module_version": "1.5.0",
            "box_style": "",
            "layout": "IPY_MODEL_828c50f4d2d9492b823bb00ffd19d900",
            "_model_module": "@jupyter-widgets/controls",
            "children": [
              "IPY_MODEL_59170887b6024d259175065e36772019",
              "IPY_MODEL_e62b1301fabc47fba1b6d4d1694e3176"
            ]
          }
        },
        "828c50f4d2d9492b823bb00ffd19d900": {
          "model_module": "@jupyter-widgets/base",
          "model_name": "LayoutModel",
          "state": {
            "_view_name": "LayoutView",
            "grid_template_rows": null,
            "right": null,
            "justify_content": null,
            "_view_module": "@jupyter-widgets/base",
            "overflow": null,
            "_model_module_version": "1.2.0",
            "_view_count": null,
            "flex_flow": null,
            "width": null,
            "min_width": null,
            "border": null,
            "align_items": null,
            "bottom": null,
            "_model_module": "@jupyter-widgets/base",
            "top": null,
            "grid_column": null,
            "overflow_y": null,
            "overflow_x": null,
            "grid_auto_flow": null,
            "grid_area": null,
            "grid_template_columns": null,
            "flex": null,
            "_model_name": "LayoutModel",
            "justify_items": null,
            "grid_row": null,
            "max_height": null,
            "align_content": null,
            "visibility": null,
            "align_self": null,
            "height": null,
            "min_height": null,
            "padding": null,
            "grid_auto_rows": null,
            "grid_gap": null,
            "max_width": null,
            "order": null,
            "_view_module_version": "1.2.0",
            "grid_template_areas": null,
            "object_position": null,
            "object_fit": null,
            "grid_auto_columns": null,
            "margin": null,
            "display": null,
            "left": null
          }
        },
        "59170887b6024d259175065e36772019": {
          "model_module": "@jupyter-widgets/controls",
          "model_name": "FloatProgressModel",
          "state": {
            "_view_name": "ProgressView",
            "style": "IPY_MODEL_b173f97802c34558b0d6a341433ae5d2",
            "_dom_classes": [],
            "description": "Downloading: 100%",
            "_model_name": "FloatProgressModel",
            "bar_style": "success",
            "max": 433,
            "_view_module": "@jupyter-widgets/controls",
            "_model_module_version": "1.5.0",
            "value": 433,
            "_view_count": null,
            "_view_module_version": "1.5.0",
            "orientation": "horizontal",
            "min": 0,
            "description_tooltip": null,
            "_model_module": "@jupyter-widgets/controls",
            "layout": "IPY_MODEL_56c42644fd04402d9230ecc21e6b580a"
          }
        },
        "e62b1301fabc47fba1b6d4d1694e3176": {
          "model_module": "@jupyter-widgets/controls",
          "model_name": "HTMLModel",
          "state": {
            "_view_name": "HTMLView",
            "style": "IPY_MODEL_c7bc0c21108549548c8dc47c3259e7ad",
            "_dom_classes": [],
            "description": "",
            "_model_name": "HTMLModel",
            "placeholder": "​",
            "_view_module": "@jupyter-widgets/controls",
            "_model_module_version": "1.5.0",
            "value": " 433/433 [00:00&lt;00:00, 1.85kB/s]",
            "_view_count": null,
            "_view_module_version": "1.5.0",
            "description_tooltip": null,
            "_model_module": "@jupyter-widgets/controls",
            "layout": "IPY_MODEL_f6f8bd24fd8043c493c66cf91b851203"
          }
        },
        "b173f97802c34558b0d6a341433ae5d2": {
          "model_module": "@jupyter-widgets/controls",
          "model_name": "ProgressStyleModel",
          "state": {
            "_view_name": "StyleView",
            "_model_name": "ProgressStyleModel",
            "description_width": "initial",
            "_view_module": "@jupyter-widgets/base",
            "_model_module_version": "1.5.0",
            "_view_count": null,
            "_view_module_version": "1.2.0",
            "bar_color": null,
            "_model_module": "@jupyter-widgets/controls"
          }
        },
        "56c42644fd04402d9230ecc21e6b580a": {
          "model_module": "@jupyter-widgets/base",
          "model_name": "LayoutModel",
          "state": {
            "_view_name": "LayoutView",
            "grid_template_rows": null,
            "right": null,
            "justify_content": null,
            "_view_module": "@jupyter-widgets/base",
            "overflow": null,
            "_model_module_version": "1.2.0",
            "_view_count": null,
            "flex_flow": null,
            "width": null,
            "min_width": null,
            "border": null,
            "align_items": null,
            "bottom": null,
            "_model_module": "@jupyter-widgets/base",
            "top": null,
            "grid_column": null,
            "overflow_y": null,
            "overflow_x": null,
            "grid_auto_flow": null,
            "grid_area": null,
            "grid_template_columns": null,
            "flex": null,
            "_model_name": "LayoutModel",
            "justify_items": null,
            "grid_row": null,
            "max_height": null,
            "align_content": null,
            "visibility": null,
            "align_self": null,
            "height": null,
            "min_height": null,
            "padding": null,
            "grid_auto_rows": null,
            "grid_gap": null,
            "max_width": null,
            "order": null,
            "_view_module_version": "1.2.0",
            "grid_template_areas": null,
            "object_position": null,
            "object_fit": null,
            "grid_auto_columns": null,
            "margin": null,
            "display": null,
            "left": null
          }
        },
        "c7bc0c21108549548c8dc47c3259e7ad": {
          "model_module": "@jupyter-widgets/controls",
          "model_name": "DescriptionStyleModel",
          "state": {
            "_view_name": "StyleView",
            "_model_name": "DescriptionStyleModel",
            "description_width": "",
            "_view_module": "@jupyter-widgets/base",
            "_model_module_version": "1.5.0",
            "_view_count": null,
            "_view_module_version": "1.2.0",
            "_model_module": "@jupyter-widgets/controls"
          }
        },
        "f6f8bd24fd8043c493c66cf91b851203": {
          "model_module": "@jupyter-widgets/base",
          "model_name": "LayoutModel",
          "state": {
            "_view_name": "LayoutView",
            "grid_template_rows": null,
            "right": null,
            "justify_content": null,
            "_view_module": "@jupyter-widgets/base",
            "overflow": null,
            "_model_module_version": "1.2.0",
            "_view_count": null,
            "flex_flow": null,
            "width": null,
            "min_width": null,
            "border": null,
            "align_items": null,
            "bottom": null,
            "_model_module": "@jupyter-widgets/base",
            "top": null,
            "grid_column": null,
            "overflow_y": null,
            "overflow_x": null,
            "grid_auto_flow": null,
            "grid_area": null,
            "grid_template_columns": null,
            "flex": null,
            "_model_name": "LayoutModel",
            "justify_items": null,
            "grid_row": null,
            "max_height": null,
            "align_content": null,
            "visibility": null,
            "align_self": null,
            "height": null,
            "min_height": null,
            "padding": null,
            "grid_auto_rows": null,
            "grid_gap": null,
            "max_width": null,
            "order": null,
            "_view_module_version": "1.2.0",
            "grid_template_areas": null,
            "object_position": null,
            "object_fit": null,
            "grid_auto_columns": null,
            "margin": null,
            "display": null,
            "left": null
          }
        },
        "b6a00204688b4232b654d2c8a78c3fbb": {
          "model_module": "@jupyter-widgets/controls",
          "model_name": "HBoxModel",
          "state": {
            "_view_name": "HBoxView",
            "_dom_classes": [],
            "_model_name": "HBoxModel",
            "_view_module": "@jupyter-widgets/controls",
            "_model_module_version": "1.5.0",
            "_view_count": null,
            "_view_module_version": "1.5.0",
            "box_style": "",
            "layout": "IPY_MODEL_bc4711109e36454390202a312ba51eef",
            "_model_module": "@jupyter-widgets/controls",
            "children": [
              "IPY_MODEL_df3d3acf271145a9aef01a459154d164",
              "IPY_MODEL_816e8297dba741cb8d645238676223a7"
            ]
          }
        },
        "bc4711109e36454390202a312ba51eef": {
          "model_module": "@jupyter-widgets/base",
          "model_name": "LayoutModel",
          "state": {
            "_view_name": "LayoutView",
            "grid_template_rows": null,
            "right": null,
            "justify_content": null,
            "_view_module": "@jupyter-widgets/base",
            "overflow": null,
            "_model_module_version": "1.2.0",
            "_view_count": null,
            "flex_flow": null,
            "width": null,
            "min_width": null,
            "border": null,
            "align_items": null,
            "bottom": null,
            "_model_module": "@jupyter-widgets/base",
            "top": null,
            "grid_column": null,
            "overflow_y": null,
            "overflow_x": null,
            "grid_auto_flow": null,
            "grid_area": null,
            "grid_template_columns": null,
            "flex": null,
            "_model_name": "LayoutModel",
            "justify_items": null,
            "grid_row": null,
            "max_height": null,
            "align_content": null,
            "visibility": null,
            "align_self": null,
            "height": null,
            "min_height": null,
            "padding": null,
            "grid_auto_rows": null,
            "grid_gap": null,
            "max_width": null,
            "order": null,
            "_view_module_version": "1.2.0",
            "grid_template_areas": null,
            "object_position": null,
            "object_fit": null,
            "grid_auto_columns": null,
            "margin": null,
            "display": null,
            "left": null
          }
        },
        "df3d3acf271145a9aef01a459154d164": {
          "model_module": "@jupyter-widgets/controls",
          "model_name": "FloatProgressModel",
          "state": {
            "_view_name": "ProgressView",
            "style": "IPY_MODEL_9a0a31ebbf0e4cf99e97ec6d6ef6df6c",
            "_dom_classes": [],
            "description": "Downloading: 100%",
            "_model_name": "FloatProgressModel",
            "bar_style": "success",
            "max": 231508,
            "_view_module": "@jupyter-widgets/controls",
            "_model_module_version": "1.5.0",
            "value": 231508,
            "_view_count": null,
            "_view_module_version": "1.5.0",
            "orientation": "horizontal",
            "min": 0,
            "description_tooltip": null,
            "_model_module": "@jupyter-widgets/controls",
            "layout": "IPY_MODEL_b037db26f5884cd1bf5cdd4769105fae"
          }
        },
        "816e8297dba741cb8d645238676223a7": {
          "model_module": "@jupyter-widgets/controls",
          "model_name": "HTMLModel",
          "state": {
            "_view_name": "HTMLView",
            "style": "IPY_MODEL_5c1ed8b318aa4b10931ef19ee565a8a2",
            "_dom_classes": [],
            "description": "",
            "_model_name": "HTMLModel",
            "placeholder": "​",
            "_view_module": "@jupyter-widgets/controls",
            "_model_module_version": "1.5.0",
            "value": " 232k/232k [00:01&lt;00:00, 137kB/s]",
            "_view_count": null,
            "_view_module_version": "1.5.0",
            "description_tooltip": null,
            "_model_module": "@jupyter-widgets/controls",
            "layout": "IPY_MODEL_4407055eff2a494a9d0a487d17c39294"
          }
        },
        "9a0a31ebbf0e4cf99e97ec6d6ef6df6c": {
          "model_module": "@jupyter-widgets/controls",
          "model_name": "ProgressStyleModel",
          "state": {
            "_view_name": "StyleView",
            "_model_name": "ProgressStyleModel",
            "description_width": "initial",
            "_view_module": "@jupyter-widgets/base",
            "_model_module_version": "1.5.0",
            "_view_count": null,
            "_view_module_version": "1.2.0",
            "bar_color": null,
            "_model_module": "@jupyter-widgets/controls"
          }
        },
        "b037db26f5884cd1bf5cdd4769105fae": {
          "model_module": "@jupyter-widgets/base",
          "model_name": "LayoutModel",
          "state": {
            "_view_name": "LayoutView",
            "grid_template_rows": null,
            "right": null,
            "justify_content": null,
            "_view_module": "@jupyter-widgets/base",
            "overflow": null,
            "_model_module_version": "1.2.0",
            "_view_count": null,
            "flex_flow": null,
            "width": null,
            "min_width": null,
            "border": null,
            "align_items": null,
            "bottom": null,
            "_model_module": "@jupyter-widgets/base",
            "top": null,
            "grid_column": null,
            "overflow_y": null,
            "overflow_x": null,
            "grid_auto_flow": null,
            "grid_area": null,
            "grid_template_columns": null,
            "flex": null,
            "_model_name": "LayoutModel",
            "justify_items": null,
            "grid_row": null,
            "max_height": null,
            "align_content": null,
            "visibility": null,
            "align_self": null,
            "height": null,
            "min_height": null,
            "padding": null,
            "grid_auto_rows": null,
            "grid_gap": null,
            "max_width": null,
            "order": null,
            "_view_module_version": "1.2.0",
            "grid_template_areas": null,
            "object_position": null,
            "object_fit": null,
            "grid_auto_columns": null,
            "margin": null,
            "display": null,
            "left": null
          }
        },
        "5c1ed8b318aa4b10931ef19ee565a8a2": {
          "model_module": "@jupyter-widgets/controls",
          "model_name": "DescriptionStyleModel",
          "state": {
            "_view_name": "StyleView",
            "_model_name": "DescriptionStyleModel",
            "description_width": "",
            "_view_module": "@jupyter-widgets/base",
            "_model_module_version": "1.5.0",
            "_view_count": null,
            "_view_module_version": "1.2.0",
            "_model_module": "@jupyter-widgets/controls"
          }
        },
        "4407055eff2a494a9d0a487d17c39294": {
          "model_module": "@jupyter-widgets/base",
          "model_name": "LayoutModel",
          "state": {
            "_view_name": "LayoutView",
            "grid_template_rows": null,
            "right": null,
            "justify_content": null,
            "_view_module": "@jupyter-widgets/base",
            "overflow": null,
            "_model_module_version": "1.2.0",
            "_view_count": null,
            "flex_flow": null,
            "width": null,
            "min_width": null,
            "border": null,
            "align_items": null,
            "bottom": null,
            "_model_module": "@jupyter-widgets/base",
            "top": null,
            "grid_column": null,
            "overflow_y": null,
            "overflow_x": null,
            "grid_auto_flow": null,
            "grid_area": null,
            "grid_template_columns": null,
            "flex": null,
            "_model_name": "LayoutModel",
            "justify_items": null,
            "grid_row": null,
            "max_height": null,
            "align_content": null,
            "visibility": null,
            "align_self": null,
            "height": null,
            "min_height": null,
            "padding": null,
            "grid_auto_rows": null,
            "grid_gap": null,
            "max_width": null,
            "order": null,
            "_view_module_version": "1.2.0",
            "grid_template_areas": null,
            "object_position": null,
            "object_fit": null,
            "grid_auto_columns": null,
            "margin": null,
            "display": null,
            "left": null
          }
        },
        "cdc71c6c4bcf4d6b86f8e65b3065b3e8": {
          "model_module": "@jupyter-widgets/controls",
          "model_name": "HBoxModel",
          "state": {
            "_view_name": "HBoxView",
            "_dom_classes": [],
            "_model_name": "HBoxModel",
            "_view_module": "@jupyter-widgets/controls",
            "_model_module_version": "1.5.0",
            "_view_count": null,
            "_view_module_version": "1.5.0",
            "box_style": "",
            "layout": "IPY_MODEL_56ef897496b14782b4f103396f484032",
            "_model_module": "@jupyter-widgets/controls",
            "children": [
              "IPY_MODEL_ec6ff6942f3645349a83697159fe08c7",
              "IPY_MODEL_53fdf9fac9964050b70ffd9c5d82863e"
            ]
          }
        },
        "56ef897496b14782b4f103396f484032": {
          "model_module": "@jupyter-widgets/base",
          "model_name": "LayoutModel",
          "state": {
            "_view_name": "LayoutView",
            "grid_template_rows": null,
            "right": null,
            "justify_content": null,
            "_view_module": "@jupyter-widgets/base",
            "overflow": null,
            "_model_module_version": "1.2.0",
            "_view_count": null,
            "flex_flow": null,
            "width": null,
            "min_width": null,
            "border": null,
            "align_items": null,
            "bottom": null,
            "_model_module": "@jupyter-widgets/base",
            "top": null,
            "grid_column": null,
            "overflow_y": null,
            "overflow_x": null,
            "grid_auto_flow": null,
            "grid_area": null,
            "grid_template_columns": null,
            "flex": null,
            "_model_name": "LayoutModel",
            "justify_items": null,
            "grid_row": null,
            "max_height": null,
            "align_content": null,
            "visibility": null,
            "align_self": null,
            "height": null,
            "min_height": null,
            "padding": null,
            "grid_auto_rows": null,
            "grid_gap": null,
            "max_width": null,
            "order": null,
            "_view_module_version": "1.2.0",
            "grid_template_areas": null,
            "object_position": null,
            "object_fit": null,
            "grid_auto_columns": null,
            "margin": null,
            "display": null,
            "left": null
          }
        },
        "ec6ff6942f3645349a83697159fe08c7": {
          "model_module": "@jupyter-widgets/controls",
          "model_name": "FloatProgressModel",
          "state": {
            "_view_name": "ProgressView",
            "style": "IPY_MODEL_4abfa5911e404eac940002d50d0e1344",
            "_dom_classes": [],
            "description": "Downloading: 100%",
            "_model_name": "FloatProgressModel",
            "bar_style": "success",
            "max": 466062,
            "_view_module": "@jupyter-widgets/controls",
            "_model_module_version": "1.5.0",
            "value": 466062,
            "_view_count": null,
            "_view_module_version": "1.5.0",
            "orientation": "horizontal",
            "min": 0,
            "description_tooltip": null,
            "_model_module": "@jupyter-widgets/controls",
            "layout": "IPY_MODEL_d37dd9fd222143198e1fa2a2b766d0e2"
          }
        },
        "53fdf9fac9964050b70ffd9c5d82863e": {
          "model_module": "@jupyter-widgets/controls",
          "model_name": "HTMLModel",
          "state": {
            "_view_name": "HTMLView",
            "style": "IPY_MODEL_a1afdaf97a76481ab84dd7dd94349245",
            "_dom_classes": [],
            "description": "",
            "_model_name": "HTMLModel",
            "placeholder": "​",
            "_view_module": "@jupyter-widgets/controls",
            "_model_module_version": "1.5.0",
            "value": " 466k/466k [00:00&lt;00:00, 468kB/s]",
            "_view_count": null,
            "_view_module_version": "1.5.0",
            "description_tooltip": null,
            "_model_module": "@jupyter-widgets/controls",
            "layout": "IPY_MODEL_3df57bb8517347dfbc589dab79bdce8f"
          }
        },
        "4abfa5911e404eac940002d50d0e1344": {
          "model_module": "@jupyter-widgets/controls",
          "model_name": "ProgressStyleModel",
          "state": {
            "_view_name": "StyleView",
            "_model_name": "ProgressStyleModel",
            "description_width": "initial",
            "_view_module": "@jupyter-widgets/base",
            "_model_module_version": "1.5.0",
            "_view_count": null,
            "_view_module_version": "1.2.0",
            "bar_color": null,
            "_model_module": "@jupyter-widgets/controls"
          }
        },
        "d37dd9fd222143198e1fa2a2b766d0e2": {
          "model_module": "@jupyter-widgets/base",
          "model_name": "LayoutModel",
          "state": {
            "_view_name": "LayoutView",
            "grid_template_rows": null,
            "right": null,
            "justify_content": null,
            "_view_module": "@jupyter-widgets/base",
            "overflow": null,
            "_model_module_version": "1.2.0",
            "_view_count": null,
            "flex_flow": null,
            "width": null,
            "min_width": null,
            "border": null,
            "align_items": null,
            "bottom": null,
            "_model_module": "@jupyter-widgets/base",
            "top": null,
            "grid_column": null,
            "overflow_y": null,
            "overflow_x": null,
            "grid_auto_flow": null,
            "grid_area": null,
            "grid_template_columns": null,
            "flex": null,
            "_model_name": "LayoutModel",
            "justify_items": null,
            "grid_row": null,
            "max_height": null,
            "align_content": null,
            "visibility": null,
            "align_self": null,
            "height": null,
            "min_height": null,
            "padding": null,
            "grid_auto_rows": null,
            "grid_gap": null,
            "max_width": null,
            "order": null,
            "_view_module_version": "1.2.0",
            "grid_template_areas": null,
            "object_position": null,
            "object_fit": null,
            "grid_auto_columns": null,
            "margin": null,
            "display": null,
            "left": null
          }
        },
        "a1afdaf97a76481ab84dd7dd94349245": {
          "model_module": "@jupyter-widgets/controls",
          "model_name": "DescriptionStyleModel",
          "state": {
            "_view_name": "StyleView",
            "_model_name": "DescriptionStyleModel",
            "description_width": "",
            "_view_module": "@jupyter-widgets/base",
            "_model_module_version": "1.5.0",
            "_view_count": null,
            "_view_module_version": "1.2.0",
            "_model_module": "@jupyter-widgets/controls"
          }
        },
        "3df57bb8517347dfbc589dab79bdce8f": {
          "model_module": "@jupyter-widgets/base",
          "model_name": "LayoutModel",
          "state": {
            "_view_name": "LayoutView",
            "grid_template_rows": null,
            "right": null,
            "justify_content": null,
            "_view_module": "@jupyter-widgets/base",
            "overflow": null,
            "_model_module_version": "1.2.0",
            "_view_count": null,
            "flex_flow": null,
            "width": null,
            "min_width": null,
            "border": null,
            "align_items": null,
            "bottom": null,
            "_model_module": "@jupyter-widgets/base",
            "top": null,
            "grid_column": null,
            "overflow_y": null,
            "overflow_x": null,
            "grid_auto_flow": null,
            "grid_area": null,
            "grid_template_columns": null,
            "flex": null,
            "_model_name": "LayoutModel",
            "justify_items": null,
            "grid_row": null,
            "max_height": null,
            "align_content": null,
            "visibility": null,
            "align_self": null,
            "height": null,
            "min_height": null,
            "padding": null,
            "grid_auto_rows": null,
            "grid_gap": null,
            "max_width": null,
            "order": null,
            "_view_module_version": "1.2.0",
            "grid_template_areas": null,
            "object_position": null,
            "object_fit": null,
            "grid_auto_columns": null,
            "margin": null,
            "display": null,
            "left": null
          }
        },
        "35ea6fd316464c2c893fa2646d1f8725": {
          "model_module": "@jupyter-widgets/controls",
          "model_name": "HBoxModel",
          "state": {
            "_view_name": "HBoxView",
            "_dom_classes": [],
            "_model_name": "HBoxModel",
            "_view_module": "@jupyter-widgets/controls",
            "_model_module_version": "1.5.0",
            "_view_count": null,
            "_view_module_version": "1.5.0",
            "box_style": "",
            "layout": "IPY_MODEL_635d6c4144f045148c9a47cfa3e12b70",
            "_model_module": "@jupyter-widgets/controls",
            "children": [
              "IPY_MODEL_6e0cca2d177b45c3b4475bba42ba0301",
              "IPY_MODEL_ff8399b34419489aaa96ace3d08f5035"
            ]
          }
        },
        "635d6c4144f045148c9a47cfa3e12b70": {
          "model_module": "@jupyter-widgets/base",
          "model_name": "LayoutModel",
          "state": {
            "_view_name": "LayoutView",
            "grid_template_rows": null,
            "right": null,
            "justify_content": null,
            "_view_module": "@jupyter-widgets/base",
            "overflow": null,
            "_model_module_version": "1.2.0",
            "_view_count": null,
            "flex_flow": null,
            "width": null,
            "min_width": null,
            "border": null,
            "align_items": null,
            "bottom": null,
            "_model_module": "@jupyter-widgets/base",
            "top": null,
            "grid_column": null,
            "overflow_y": null,
            "overflow_x": null,
            "grid_auto_flow": null,
            "grid_area": null,
            "grid_template_columns": null,
            "flex": null,
            "_model_name": "LayoutModel",
            "justify_items": null,
            "grid_row": null,
            "max_height": null,
            "align_content": null,
            "visibility": null,
            "align_self": null,
            "height": null,
            "min_height": null,
            "padding": null,
            "grid_auto_rows": null,
            "grid_gap": null,
            "max_width": null,
            "order": null,
            "_view_module_version": "1.2.0",
            "grid_template_areas": null,
            "object_position": null,
            "object_fit": null,
            "grid_auto_columns": null,
            "margin": null,
            "display": null,
            "left": null
          }
        },
        "6e0cca2d177b45c3b4475bba42ba0301": {
          "model_module": "@jupyter-widgets/controls",
          "model_name": "FloatProgressModel",
          "state": {
            "_view_name": "ProgressView",
            "style": "IPY_MODEL_8d1fdaafabd5488280f723c33dc280a6",
            "_dom_classes": [],
            "description": "Downloading: 100%",
            "_model_name": "FloatProgressModel",
            "bar_style": "success",
            "max": 440473133,
            "_view_module": "@jupyter-widgets/controls",
            "_model_module_version": "1.5.0",
            "value": 440473133,
            "_view_count": null,
            "_view_module_version": "1.5.0",
            "orientation": "horizontal",
            "min": 0,
            "description_tooltip": null,
            "_model_module": "@jupyter-widgets/controls",
            "layout": "IPY_MODEL_341c254169ef4db5833e7845ecb2a7e6"
          }
        },
        "ff8399b34419489aaa96ace3d08f5035": {
          "model_module": "@jupyter-widgets/controls",
          "model_name": "HTMLModel",
          "state": {
            "_view_name": "HTMLView",
            "style": "IPY_MODEL_ecc6771f12a1452eb06a618748a8ca91",
            "_dom_classes": [],
            "description": "",
            "_model_name": "HTMLModel",
            "placeholder": "​",
            "_view_module": "@jupyter-widgets/controls",
            "_model_module_version": "1.5.0",
            "value": " 440M/440M [00:07&lt;00:00, 60.5MB/s]",
            "_view_count": null,
            "_view_module_version": "1.5.0",
            "description_tooltip": null,
            "_model_module": "@jupyter-widgets/controls",
            "layout": "IPY_MODEL_27953dd0c2f54839b549ab3e95a0f876"
          }
        },
        "8d1fdaafabd5488280f723c33dc280a6": {
          "model_module": "@jupyter-widgets/controls",
          "model_name": "ProgressStyleModel",
          "state": {
            "_view_name": "StyleView",
            "_model_name": "ProgressStyleModel",
            "description_width": "initial",
            "_view_module": "@jupyter-widgets/base",
            "_model_module_version": "1.5.0",
            "_view_count": null,
            "_view_module_version": "1.2.0",
            "bar_color": null,
            "_model_module": "@jupyter-widgets/controls"
          }
        },
        "341c254169ef4db5833e7845ecb2a7e6": {
          "model_module": "@jupyter-widgets/base",
          "model_name": "LayoutModel",
          "state": {
            "_view_name": "LayoutView",
            "grid_template_rows": null,
            "right": null,
            "justify_content": null,
            "_view_module": "@jupyter-widgets/base",
            "overflow": null,
            "_model_module_version": "1.2.0",
            "_view_count": null,
            "flex_flow": null,
            "width": null,
            "min_width": null,
            "border": null,
            "align_items": null,
            "bottom": null,
            "_model_module": "@jupyter-widgets/base",
            "top": null,
            "grid_column": null,
            "overflow_y": null,
            "overflow_x": null,
            "grid_auto_flow": null,
            "grid_area": null,
            "grid_template_columns": null,
            "flex": null,
            "_model_name": "LayoutModel",
            "justify_items": null,
            "grid_row": null,
            "max_height": null,
            "align_content": null,
            "visibility": null,
            "align_self": null,
            "height": null,
            "min_height": null,
            "padding": null,
            "grid_auto_rows": null,
            "grid_gap": null,
            "max_width": null,
            "order": null,
            "_view_module_version": "1.2.0",
            "grid_template_areas": null,
            "object_position": null,
            "object_fit": null,
            "grid_auto_columns": null,
            "margin": null,
            "display": null,
            "left": null
          }
        },
        "ecc6771f12a1452eb06a618748a8ca91": {
          "model_module": "@jupyter-widgets/controls",
          "model_name": "DescriptionStyleModel",
          "state": {
            "_view_name": "StyleView",
            "_model_name": "DescriptionStyleModel",
            "description_width": "",
            "_view_module": "@jupyter-widgets/base",
            "_model_module_version": "1.5.0",
            "_view_count": null,
            "_view_module_version": "1.2.0",
            "_model_module": "@jupyter-widgets/controls"
          }
        },
        "27953dd0c2f54839b549ab3e95a0f876": {
          "model_module": "@jupyter-widgets/base",
          "model_name": "LayoutModel",
          "state": {
            "_view_name": "LayoutView",
            "grid_template_rows": null,
            "right": null,
            "justify_content": null,
            "_view_module": "@jupyter-widgets/base",
            "overflow": null,
            "_model_module_version": "1.2.0",
            "_view_count": null,
            "flex_flow": null,
            "width": null,
            "min_width": null,
            "border": null,
            "align_items": null,
            "bottom": null,
            "_model_module": "@jupyter-widgets/base",
            "top": null,
            "grid_column": null,
            "overflow_y": null,
            "overflow_x": null,
            "grid_auto_flow": null,
            "grid_area": null,
            "grid_template_columns": null,
            "flex": null,
            "_model_name": "LayoutModel",
            "justify_items": null,
            "grid_row": null,
            "max_height": null,
            "align_content": null,
            "visibility": null,
            "align_self": null,
            "height": null,
            "min_height": null,
            "padding": null,
            "grid_auto_rows": null,
            "grid_gap": null,
            "max_width": null,
            "order": null,
            "_view_module_version": "1.2.0",
            "grid_template_areas": null,
            "object_position": null,
            "object_fit": null,
            "grid_auto_columns": null,
            "margin": null,
            "display": null,
            "left": null
          }
        },
        "bd342c5f8d964c1bb2a24fb74d2c2b37": {
          "model_module": "@jupyter-widgets/controls",
          "model_name": "HBoxModel",
          "state": {
            "_view_name": "HBoxView",
            "_dom_classes": [],
            "_model_name": "HBoxModel",
            "_view_module": "@jupyter-widgets/controls",
            "_model_module_version": "1.5.0",
            "_view_count": null,
            "_view_module_version": "1.5.0",
            "box_style": "",
            "layout": "IPY_MODEL_75d5e7cb05e8412d951c1c3ff9588fca",
            "_model_module": "@jupyter-widgets/controls",
            "children": [
              "IPY_MODEL_3689437a3f064262b3199ad5cbc760b0",
              "IPY_MODEL_967cf089243d47dda13a464600a877f2"
            ]
          }
        },
        "75d5e7cb05e8412d951c1c3ff9588fca": {
          "model_module": "@jupyter-widgets/base",
          "model_name": "LayoutModel",
          "state": {
            "_view_name": "LayoutView",
            "grid_template_rows": null,
            "right": null,
            "justify_content": null,
            "_view_module": "@jupyter-widgets/base",
            "overflow": null,
            "_model_module_version": "1.2.0",
            "_view_count": null,
            "flex_flow": null,
            "width": null,
            "min_width": null,
            "border": null,
            "align_items": null,
            "bottom": null,
            "_model_module": "@jupyter-widgets/base",
            "top": null,
            "grid_column": null,
            "overflow_y": null,
            "overflow_x": null,
            "grid_auto_flow": null,
            "grid_area": null,
            "grid_template_columns": null,
            "flex": null,
            "_model_name": "LayoutModel",
            "justify_items": null,
            "grid_row": null,
            "max_height": null,
            "align_content": null,
            "visibility": null,
            "align_self": null,
            "height": null,
            "min_height": null,
            "padding": null,
            "grid_auto_rows": null,
            "grid_gap": null,
            "max_width": null,
            "order": null,
            "_view_module_version": "1.2.0",
            "grid_template_areas": null,
            "object_position": null,
            "object_fit": null,
            "grid_auto_columns": null,
            "margin": null,
            "display": null,
            "left": null
          }
        },
        "3689437a3f064262b3199ad5cbc760b0": {
          "model_module": "@jupyter-widgets/controls",
          "model_name": "FloatProgressModel",
          "state": {
            "_view_name": "ProgressView",
            "style": "IPY_MODEL_1ca89397d19243c6ad3b5951ac13c381",
            "_dom_classes": [],
            "description": "",
            "_model_name": "FloatProgressModel",
            "bar_style": "success",
            "max": 1,
            "_view_module": "@jupyter-widgets/controls",
            "_model_module_version": "1.5.0",
            "value": 1,
            "_view_count": null,
            "_view_module_version": "1.5.0",
            "orientation": "horizontal",
            "min": 0,
            "description_tooltip": null,
            "_model_module": "@jupyter-widgets/controls",
            "layout": "IPY_MODEL_e43a050394ec468697cb0fe2050f3c85"
          }
        },
        "967cf089243d47dda13a464600a877f2": {
          "model_module": "@jupyter-widgets/controls",
          "model_name": "HTMLModel",
          "state": {
            "_view_name": "HTMLView",
            "style": "IPY_MODEL_0ae3095c703a410298ce93a54e3dce49",
            "_dom_classes": [],
            "description": "",
            "_model_name": "HTMLModel",
            "placeholder": "​",
            "_view_module": "@jupyter-widgets/controls",
            "_model_module_version": "1.5.0",
            "value": " 37453/? [16:55&lt;00:00, 36.87it/s]",
            "_view_count": null,
            "_view_module_version": "1.5.0",
            "description_tooltip": null,
            "_model_module": "@jupyter-widgets/controls",
            "layout": "IPY_MODEL_9807d4cc06ce4e189652344a3e364344"
          }
        },
        "1ca89397d19243c6ad3b5951ac13c381": {
          "model_module": "@jupyter-widgets/controls",
          "model_name": "ProgressStyleModel",
          "state": {
            "_view_name": "StyleView",
            "_model_name": "ProgressStyleModel",
            "description_width": "initial",
            "_view_module": "@jupyter-widgets/base",
            "_model_module_version": "1.5.0",
            "_view_count": null,
            "_view_module_version": "1.2.0",
            "bar_color": null,
            "_model_module": "@jupyter-widgets/controls"
          }
        },
        "e43a050394ec468697cb0fe2050f3c85": {
          "model_module": "@jupyter-widgets/base",
          "model_name": "LayoutModel",
          "state": {
            "_view_name": "LayoutView",
            "grid_template_rows": null,
            "right": null,
            "justify_content": null,
            "_view_module": "@jupyter-widgets/base",
            "overflow": null,
            "_model_module_version": "1.2.0",
            "_view_count": null,
            "flex_flow": null,
            "width": null,
            "min_width": null,
            "border": null,
            "align_items": null,
            "bottom": null,
            "_model_module": "@jupyter-widgets/base",
            "top": null,
            "grid_column": null,
            "overflow_y": null,
            "overflow_x": null,
            "grid_auto_flow": null,
            "grid_area": null,
            "grid_template_columns": null,
            "flex": null,
            "_model_name": "LayoutModel",
            "justify_items": null,
            "grid_row": null,
            "max_height": null,
            "align_content": null,
            "visibility": null,
            "align_self": null,
            "height": null,
            "min_height": null,
            "padding": null,
            "grid_auto_rows": null,
            "grid_gap": null,
            "max_width": null,
            "order": null,
            "_view_module_version": "1.2.0",
            "grid_template_areas": null,
            "object_position": null,
            "object_fit": null,
            "grid_auto_columns": null,
            "margin": null,
            "display": null,
            "left": null
          }
        },
        "0ae3095c703a410298ce93a54e3dce49": {
          "model_module": "@jupyter-widgets/controls",
          "model_name": "DescriptionStyleModel",
          "state": {
            "_view_name": "StyleView",
            "_model_name": "DescriptionStyleModel",
            "description_width": "",
            "_view_module": "@jupyter-widgets/base",
            "_model_module_version": "1.5.0",
            "_view_count": null,
            "_view_module_version": "1.2.0",
            "_model_module": "@jupyter-widgets/controls"
          }
        },
        "9807d4cc06ce4e189652344a3e364344": {
          "model_module": "@jupyter-widgets/base",
          "model_name": "LayoutModel",
          "state": {
            "_view_name": "LayoutView",
            "grid_template_rows": null,
            "right": null,
            "justify_content": null,
            "_view_module": "@jupyter-widgets/base",
            "overflow": null,
            "_model_module_version": "1.2.0",
            "_view_count": null,
            "flex_flow": null,
            "width": null,
            "min_width": null,
            "border": null,
            "align_items": null,
            "bottom": null,
            "_model_module": "@jupyter-widgets/base",
            "top": null,
            "grid_column": null,
            "overflow_y": null,
            "overflow_x": null,
            "grid_auto_flow": null,
            "grid_area": null,
            "grid_template_columns": null,
            "flex": null,
            "_model_name": "LayoutModel",
            "justify_items": null,
            "grid_row": null,
            "max_height": null,
            "align_content": null,
            "visibility": null,
            "align_self": null,
            "height": null,
            "min_height": null,
            "padding": null,
            "grid_auto_rows": null,
            "grid_gap": null,
            "max_width": null,
            "order": null,
            "_view_module_version": "1.2.0",
            "grid_template_areas": null,
            "object_position": null,
            "object_fit": null,
            "grid_auto_columns": null,
            "margin": null,
            "display": null,
            "left": null
          }
        }
      }
    }
  },
  "cells": [
    {
      "cell_type": "code",
      "metadata": {
        "colab": {
          "base_uri": "https://localhost:8080/"
        },
        "id": "O0KjML_oQooj",
        "outputId": "708df7b2-cfa1-47ea-ec9d-a6878c296224"
      },
      "source": [
        "from google.colab import drive\n",
        "drive.mount('/content/drive')"
      ],
      "execution_count": 1,
      "outputs": [
        {
          "output_type": "stream",
          "text": [
            "Mounted at /content/drive\n"
          ],
          "name": "stdout"
        }
      ]
    },
    {
      "cell_type": "code",
      "metadata": {
        "colab": {
          "base_uri": "https://localhost:8080/"
        },
        "id": "BnDbdZc25AiN",
        "outputId": "1b697d38-df51-4859-fecd-98c24c1a827b"
      },
      "source": [
        "%cd '/content/drive/My Drive/SemEval/repo/ReCAM/notebooks'"
      ],
      "execution_count": 2,
      "outputs": [
        {
          "output_type": "stream",
          "text": [
            "/content/drive/My Drive/SemEval/repo/ReCAM/notebooks\n"
          ],
          "name": "stdout"
        }
      ]
    },
    {
      "cell_type": "code",
      "metadata": {
        "id": "0xv-ZPs_QPyG"
      },
      "source": [
        "%%capture\n",
        "!pip install transformers"
      ],
      "execution_count": 3,
      "outputs": []
    },
    {
      "cell_type": "code",
      "metadata": {
        "id": "_fniuNC6QPyI"
      },
      "source": [
        "import sys\n",
        "sys.path.append('..')\n",
        "sys.path.append('../src')\n",
        "import numpy as np\n",
        "from transformers import AutoTokenizer, AutoModel\n",
        "from tqdm.auto import tqdm\n",
        "import torch"
      ],
      "execution_count": 4,
      "outputs": []
    },
    {
      "cell_type": "code",
      "metadata": {
        "id": "7FdEet9eQPyJ"
      },
      "source": [
        "# load the dataset\n",
        "\n",
        "from datasets.concreteness_dataset import ConcretenessDataset\n",
        "\n",
        "dataset = ConcretenessDataset('../data/imperceptibility/Concreteness Ratings/train/forty.csv',None,)"
      ],
      "execution_count": 5,
      "outputs": []
    },
    {
      "cell_type": "code",
      "metadata": {
        "colab": {
          "base_uri": "https://localhost:8080/"
        },
        "id": "ka_DAbnwVTdx",
        "outputId": "d9c83742-b13a-42c9-f5f5-8796af53f221"
      },
      "source": [
        "!nvidia-smi"
      ],
      "execution_count": 6,
      "outputs": [
        {
          "output_type": "stream",
          "text": [
            "Sat Dec 12 23:43:35 2020       \n",
            "+-----------------------------------------------------------------------------+\n",
            "| NVIDIA-SMI 455.45.01    Driver Version: 418.67       CUDA Version: 10.1     |\n",
            "|-------------------------------+----------------------+----------------------+\n",
            "| GPU  Name        Persistence-M| Bus-Id        Disp.A | Volatile Uncorr. ECC |\n",
            "| Fan  Temp  Perf  Pwr:Usage/Cap|         Memory-Usage | GPU-Util  Compute M. |\n",
            "|                               |                      |               MIG M. |\n",
            "|===============================+======================+======================|\n",
            "|   0  Tesla P100-PCIE...  Off  | 00000000:00:04.0 Off |                    0 |\n",
            "| N/A   36C    P0    25W / 250W |     10MiB / 16280MiB |      0%      Default |\n",
            "|                               |                      |                 ERR! |\n",
            "+-------------------------------+----------------------+----------------------+\n",
            "                                                                               \n",
            "+-----------------------------------------------------------------------------+\n",
            "| Processes:                                                                  |\n",
            "|  GPU   GI   CI        PID   Type   Process name                  GPU Memory |\n",
            "|        ID   ID                                                   Usage      |\n",
            "|=============================================================================|\n",
            "|  No running processes found                                                 |\n",
            "+-----------------------------------------------------------------------------+\n"
          ],
          "name": "stdout"
        }
      ]
    },
    {
      "cell_type": "markdown",
      "metadata": {
        "id": "8Z7TbQzFQPyJ"
      },
      "source": [
        "# Word2Vec Embeddings"
      ]
    },
    {
      "cell_type": "code",
      "metadata": {
        "id": "2sAoAKvcQPyK"
      },
      "source": [
        "# load the GloVe Vectors\n",
        "from gensim import models\n",
        "w = models.KeyedVectors.load_word2vec_format('../data/word_vectors/GoogleNews-vectors-negative300.bin', binary=True)"
      ],
      "execution_count": null,
      "outputs": []
    },
    {
      "cell_type": "code",
      "metadata": {
        "id": "vOa1Byy2QPyL"
      },
      "source": [
        "def compute_unk_vec(dataset, word_vec_model):\n",
        "    i = 0\n",
        "    vec_avg = 0\n",
        "    for sample in enumerate(dataset):\n",
        "        # print(sample)\n",
        "        word = sample[1][0]\n",
        "        reg_value = sample[1][1]\n",
        "        # print(word)\n",
        "        try:\n",
        "            words = word.split(' ')\n",
        "            # print(words)\n",
        "            vecs = [word_vec_model[word] for word in words]\n",
        "            vec = sum(vecs)/len(vecs)\n",
        "\n",
        "            if i==0:\n",
        "                vec_avg = vec.copy()\n",
        "            else:\n",
        "                vec_avg += vec.copy()\n",
        "            #print(vec_avg)\n",
        "            i += 1\n",
        "        except:\n",
        "            pass\n",
        "    return i,vec_avg/i\n",
        "unk_vec = compute_unk_vec(dataset,w)[1]"
      ],
      "execution_count": null,
      "outputs": []
    },
    {
      "cell_type": "code",
      "metadata": {
        "id": "KjdRaRWwQPyL"
      },
      "source": [
        "def compute_pearson_coefficient(dataset, word_vec_model):\n",
        "    i = 0\n",
        "    reg_values = []\n",
        "    every_dim = [[] for i in range(300)]\n",
        "    for sample in enumerate(dataset):\n",
        "        # print(sample)\n",
        "        word = sample[1][0]\n",
        "        reg_value = sample[1][1]\n",
        "        # print(word)\n",
        "        try:\n",
        "            words = word.split(' ')\n",
        "            # print(words)\n",
        "            vecs = [word_vec_model[word] for word in words]\n",
        "            vec = sum(vecs)/len(vecs)\n",
        "            for dim,dim_val in enumerate(vec):\n",
        "                every_dim[dim].append(dim_val)\n",
        "            reg_values.append(reg_value)\n",
        "            i += 1\n",
        "        except:\n",
        "            pass\n",
        "    return every_dim,reg_values\n",
        "every_dim,reg_values = compute_pearson_coefficient(dataset,w)"
      ],
      "execution_count": null,
      "outputs": []
    },
    {
      "cell_type": "code",
      "metadata": {
        "colab": {
          "base_uri": "https://localhost:8080/"
        },
        "id": "plXZrSHzQPyM",
        "outputId": "b42fc5cb-a7c7-4a63-b760-d494f38b4696"
      },
      "source": [
        "from scipy.stats import pearsonr\n",
        "corr_values = []\n",
        "for dim in every_dim:\n",
        "    corr_values.append(abs(pearsonr(dim, reg_values)[0]))\n",
        "print(np.max(corr_values))\n",
        "sorted_dims = list(np.argsort(corr_values))\n",
        "sorted_dims.reverse()\n",
        "print(sorted_dims)"
      ],
      "execution_count": null,
      "outputs": [
        {
          "output_type": "stream",
          "text": [
            "0.34990046946299524\n",
            "[79, 40, 174, 294, 124, 77, 67, 13, 179, 118, 52, 101, 55, 57, 212, 106, 214, 234, 201, 240, 16, 245, 135, 289, 263, 143, 274, 232, 74, 279, 81, 250, 10, 195, 68, 226, 176, 277, 258, 75, 24, 29, 98, 4, 41, 48, 80, 248, 111, 120, 94, 114, 229, 194, 73, 61, 285, 282, 215, 6, 70, 192, 26, 297, 283, 262, 139, 0, 199, 39, 63, 97, 116, 119, 185, 121, 11, 162, 60, 150, 159, 145, 88, 56, 227, 37, 21, 129, 255, 122, 197, 69, 7, 186, 208, 15, 171, 249, 108, 100, 243, 112, 177, 221, 175, 216, 91, 148, 210, 85, 144, 128, 147, 27, 33, 193, 287, 23, 188, 218, 252, 31, 19, 34, 292, 35, 231, 132, 206, 167, 284, 102, 169, 149, 45, 78, 153, 90, 276, 267, 151, 8, 219, 137, 146, 156, 127, 3, 202, 299, 295, 166, 259, 53, 251, 49, 30, 152, 42, 266, 222, 95, 244, 136, 155, 291, 281, 191, 269, 198, 47, 184, 103, 242, 187, 44, 20, 38, 158, 173, 224, 2, 113, 170, 272, 254, 140, 71, 233, 200, 134, 50, 83, 261, 288, 172, 17, 125, 235, 260, 264, 257, 138, 256, 290, 296, 253, 96, 133, 273, 87, 62, 89, 36, 247, 220, 275, 117, 230, 223, 5, 58, 51, 278, 189, 180, 99, 104, 72, 115, 43, 84, 211, 66, 237, 207, 265, 65, 32, 271, 141, 1, 126, 28, 157, 109, 161, 9, 293, 178, 268, 25, 217, 205, 14, 142, 110, 183, 203, 163, 154, 76, 204, 160, 86, 92, 12, 105, 130, 59, 238, 168, 18, 107, 82, 270, 64, 213, 196, 164, 165, 93, 236, 131, 239, 123, 241, 280, 181, 46, 286, 225, 22, 246, 228, 182, 298, 190, 54, 209]\n"
          ],
          "name": "stdout"
        }
      ]
    },
    {
      "cell_type": "code",
      "metadata": {
        "colab": {
          "base_uri": "https://localhost:8080/"
        },
        "id": "OgLCXgGQQPyN",
        "outputId": "e8aeb6d1-0d7b-44c0-bba1-f457024e0719"
      },
      "source": [
        "from scipy.stats import spearmanr\n",
        "corr_values = []\n",
        "for dim in every_dim:\n",
        "    corr_values.append(abs(spearmanr(dim, reg_values)[0]))\n",
        "print(np.max(corr_values))\n",
        "sorted_dims = list(np.argsort(corr_values))\n",
        "sorted_dims.reverse()\n",
        "print(sorted_dims)"
      ],
      "execution_count": null,
      "outputs": [
        {
          "output_type": "stream",
          "text": [
            "0.3443234713308586\n",
            "[79, 40, 294, 124, 174, 77, 179, 67, 13, 118, 101, 52, 55, 57, 212, 234, 214, 106, 240, 16, 245, 201, 135, 143, 274, 263, 279, 74, 81, 277, 232, 226, 289, 10, 195, 258, 176, 24, 250, 68, 29, 4, 248, 120, 41, 6, 75, 80, 94, 215, 98, 111, 61, 114, 229, 48, 0, 285, 73, 283, 194, 26, 282, 39, 119, 192, 185, 70, 116, 199, 121, 60, 297, 139, 150, 255, 262, 63, 21, 97, 122, 249, 162, 208, 7, 159, 15, 197, 56, 186, 227, 88, 69, 145, 129, 33, 37, 11, 147, 243, 100, 112, 177, 108, 128, 85, 34, 144, 78, 171, 148, 287, 175, 91, 221, 149, 169, 292, 31, 167, 19, 23, 231, 188, 35, 3, 45, 27, 216, 267, 193, 49, 151, 206, 102, 299, 284, 252, 8, 210, 166, 127, 153, 295, 218, 42, 137, 222, 146, 53, 156, 276, 95, 259, 191, 132, 242, 30, 244, 281, 202, 113, 219, 251, 170, 90, 47, 266, 103, 152, 198, 269, 291, 224, 155, 136, 71, 187, 38, 184, 20, 254, 173, 140, 2, 125, 264, 296, 272, 288, 44, 290, 17, 275, 172, 96, 62, 233, 50, 134, 261, 158, 260, 117, 84, 257, 230, 200, 253, 256, 87, 5, 237, 247, 104, 220, 223, 133, 51, 58, 83, 235, 207, 278, 89, 211, 138, 110, 115, 180, 92, 1, 271, 9, 141, 36, 178, 189, 65, 32, 99, 66, 273, 168, 28, 268, 43, 161, 183, 154, 126, 109, 14, 163, 82, 293, 64, 25, 72, 12, 203, 157, 160, 265, 59, 142, 205, 217, 18, 280, 204, 86, 107, 131, 225, 93, 196, 123, 238, 181, 236, 164, 241, 270, 239, 182, 22, 76, 246, 228, 286, 165, 213, 46, 190, 298, 105, 130, 54, 209]\n"
          ],
          "name": "stdout"
        }
      ]
    },
    {
      "cell_type": "markdown",
      "metadata": {
        "id": "lmgNMxP6QPyP"
      },
      "source": [
        "# BERT Embeddings"
      ]
    },
    {
      "cell_type": "code",
      "metadata": {
        "colab": {
          "base_uri": "https://localhost:8080/"
        },
        "id": "IQyfkl7EN7N8",
        "outputId": "c250ab3a-17f1-46dc-978e-aef0c91f0d5a"
      },
      "source": [
        "device = torch.device(\"cuda\" if torch.cuda.is_available() else \"cpu\")\n",
        "device"
      ],
      "execution_count": 7,
      "outputs": [
        {
          "output_type": "execute_result",
          "data": {
            "text/plain": [
              "device(type='cuda')"
            ]
          },
          "metadata": {
            "tags": []
          },
          "execution_count": 7
        }
      ]
    },
    {
      "cell_type": "code",
      "metadata": {
        "colab": {
          "base_uri": "https://localhost:8080/",
          "height": 319,
          "referenced_widgets": [
            "003293e8e8ef41218accbb9576023e49",
            "828c50f4d2d9492b823bb00ffd19d900",
            "59170887b6024d259175065e36772019",
            "e62b1301fabc47fba1b6d4d1694e3176",
            "b173f97802c34558b0d6a341433ae5d2",
            "56c42644fd04402d9230ecc21e6b580a",
            "c7bc0c21108549548c8dc47c3259e7ad",
            "f6f8bd24fd8043c493c66cf91b851203",
            "b6a00204688b4232b654d2c8a78c3fbb",
            "bc4711109e36454390202a312ba51eef",
            "df3d3acf271145a9aef01a459154d164",
            "816e8297dba741cb8d645238676223a7",
            "9a0a31ebbf0e4cf99e97ec6d6ef6df6c",
            "b037db26f5884cd1bf5cdd4769105fae",
            "5c1ed8b318aa4b10931ef19ee565a8a2",
            "4407055eff2a494a9d0a487d17c39294",
            "cdc71c6c4bcf4d6b86f8e65b3065b3e8",
            "56ef897496b14782b4f103396f484032",
            "ec6ff6942f3645349a83697159fe08c7",
            "53fdf9fac9964050b70ffd9c5d82863e",
            "4abfa5911e404eac940002d50d0e1344",
            "d37dd9fd222143198e1fa2a2b766d0e2",
            "a1afdaf97a76481ab84dd7dd94349245",
            "3df57bb8517347dfbc589dab79bdce8f",
            "35ea6fd316464c2c893fa2646d1f8725",
            "635d6c4144f045148c9a47cfa3e12b70",
            "6e0cca2d177b45c3b4475bba42ba0301",
            "ff8399b34419489aaa96ace3d08f5035",
            "8d1fdaafabd5488280f723c33dc280a6",
            "341c254169ef4db5833e7845ecb2a7e6",
            "ecc6771f12a1452eb06a618748a8ca91",
            "27953dd0c2f54839b549ab3e95a0f876",
            "bd342c5f8d964c1bb2a24fb74d2c2b37",
            "75d5e7cb05e8412d951c1c3ff9588fca",
            "3689437a3f064262b3199ad5cbc760b0",
            "967cf089243d47dda13a464600a877f2",
            "1ca89397d19243c6ad3b5951ac13c381",
            "e43a050394ec468697cb0fe2050f3c85",
            "0ae3095c703a410298ce93a54e3dce49",
            "9807d4cc06ce4e189652344a3e364344"
          ]
        },
        "id": "09rErDJ4HypY",
        "outputId": "f14004ef-c846-4f86-8456-1bf9a43b7ed0"
      },
      "source": [
        "def compute_pearson_coefficient(dataset, model_name='bert-base-uncased',dim_of_vec=768):\n",
        "    i = 0\n",
        "    reg_values = []\n",
        "    every_dim = [[] for i in range(dim_of_vec)]\n",
        "\n",
        "    tokenizer = AutoTokenizer.from_pretrained(model_name)\n",
        "    model = AutoModel.from_pretrained(model_name)\n",
        "    model.to(device)\n",
        "    model.eval()\n",
        "    for sample in tqdm(enumerate(dataset)):\n",
        "        # print(sample)\n",
        "        word = sample[1][0]\n",
        "        reg_value = sample[1][1]\n",
        "        # print(word)\n",
        "        with torch.no_grad():\n",
        "            inputs = tokenizer(word, return_tensors=\"pt\")\n",
        "            for key in inputs:\n",
        "                inputs[key] = torch.tensor(inputs[key],device=device)\n",
        "            outputs = model(**inputs)\n",
        "            vec = outputs.last_hidden_state[0][0]\n",
        "\n",
        "        for dim,dim_val in enumerate(vec):\n",
        "            every_dim[dim].append(dim_val.cpu().detach().item())\n",
        "        reg_values.append(reg_value)\n",
        "        i += 1\n",
        "    print(i)\n",
        "    return every_dim,reg_values\n",
        "every_dim,reg_values = compute_pearson_coefficient(dataset)"
      ],
      "execution_count": 8,
      "outputs": [
        {
          "output_type": "display_data",
          "data": {
            "application/vnd.jupyter.widget-view+json": {
              "model_id": "003293e8e8ef41218accbb9576023e49",
              "version_minor": 0,
              "version_major": 2
            },
            "text/plain": [
              "HBox(children=(FloatProgress(value=0.0, description='Downloading', max=433.0, style=ProgressStyle(description_…"
            ]
          },
          "metadata": {
            "tags": []
          }
        },
        {
          "output_type": "stream",
          "text": [
            "\n"
          ],
          "name": "stdout"
        },
        {
          "output_type": "display_data",
          "data": {
            "application/vnd.jupyter.widget-view+json": {
              "model_id": "b6a00204688b4232b654d2c8a78c3fbb",
              "version_minor": 0,
              "version_major": 2
            },
            "text/plain": [
              "HBox(children=(FloatProgress(value=0.0, description='Downloading', max=231508.0, style=ProgressStyle(descripti…"
            ]
          },
          "metadata": {
            "tags": []
          }
        },
        {
          "output_type": "stream",
          "text": [
            "\n"
          ],
          "name": "stdout"
        },
        {
          "output_type": "display_data",
          "data": {
            "application/vnd.jupyter.widget-view+json": {
              "model_id": "cdc71c6c4bcf4d6b86f8e65b3065b3e8",
              "version_minor": 0,
              "version_major": 2
            },
            "text/plain": [
              "HBox(children=(FloatProgress(value=0.0, description='Downloading', max=466062.0, style=ProgressStyle(descripti…"
            ]
          },
          "metadata": {
            "tags": []
          }
        },
        {
          "output_type": "stream",
          "text": [
            "\n"
          ],
          "name": "stdout"
        },
        {
          "output_type": "display_data",
          "data": {
            "application/vnd.jupyter.widget-view+json": {
              "model_id": "35ea6fd316464c2c893fa2646d1f8725",
              "version_minor": 0,
              "version_major": 2
            },
            "text/plain": [
              "HBox(children=(FloatProgress(value=0.0, description='Downloading', max=440473133.0, style=ProgressStyle(descri…"
            ]
          },
          "metadata": {
            "tags": []
          }
        },
        {
          "output_type": "stream",
          "text": [
            "\n"
          ],
          "name": "stdout"
        },
        {
          "output_type": "display_data",
          "data": {
            "application/vnd.jupyter.widget-view+json": {
              "model_id": "bd342c5f8d964c1bb2a24fb74d2c2b37",
              "version_minor": 0,
              "version_major": 2
            },
            "text/plain": [
              "HBox(children=(FloatProgress(value=1.0, bar_style='info', max=1.0), HTML(value='')))"
            ]
          },
          "metadata": {
            "tags": []
          }
        },
        {
          "output_type": "stream",
          "text": [
            "/usr/local/lib/python3.6/dist-packages/ipykernel_launcher.py:18: UserWarning: To copy construct from a tensor, it is recommended to use sourceTensor.clone().detach() or sourceTensor.clone().detach().requires_grad_(True), rather than torch.tensor(sourceTensor).\n"
          ],
          "name": "stderr"
        },
        {
          "output_type": "stream",
          "text": [
            "\n",
            "37453\n"
          ],
          "name": "stdout"
        }
      ]
    },
    {
      "cell_type": "code",
      "metadata": {
        "colab": {
          "base_uri": "https://localhost:8080/"
        },
        "id": "9VGmItH8QxQO",
        "outputId": "80d05dde-ca35-423b-e113-162824658794"
      },
      "source": [
        "from scipy.stats import pearsonr\n",
        "corr_values = []\n",
        "for dim in every_dim:\n",
        "    corr_values.append(abs(pearsonr(dim, reg_values)[0]))\n",
        "# del every_dim\n",
        "# del reg_values\n",
        "print(np.max(corr_values))\n",
        "sorted_dims = list(np.argsort(corr_values))\n",
        "sorted_dims.reverse()\n",
        "print(sorted_dims)"
      ],
      "execution_count": 9,
      "outputs": [
        {
          "output_type": "stream",
          "text": [
            "0.44281709395710567\n",
            "[411, 8, 721, 9, 687, 419, 249, 193, 518, 741, 652, 119, 177, 175, 87, 446, 558, 90, 323, 458, 21, 595, 287, 286, 331, 474, 516, 585, 56, 103, 127, 395, 447, 498, 657, 62, 290, 157, 573, 460, 238, 608, 711, 83, 4, 542, 276, 448, 377, 355, 146, 528, 751, 301, 74, 190, 674, 394, 571, 26, 186, 98, 726, 71, 131, 277, 387, 188, 761, 722, 191, 434, 228, 580, 106, 525, 256, 240, 431, 86, 543, 320, 373, 701, 378, 250, 649, 490, 688, 638, 540, 344, 413, 339, 665, 565, 44, 202, 340, 709, 48, 392, 444, 536, 453, 266, 520, 450, 315, 294, 356, 505, 502, 168, 409, 753, 602, 436, 118, 31, 139, 173, 629, 731, 707, 348, 720, 464, 747, 204, 544, 160, 556, 717, 243, 691, 442, 93, 663, 666, 37, 259, 455, 677, 101, 553, 234, 401, 541, 599, 397, 197, 471, 136, 328, 507, 198, 6, 262, 165, 360, 182, 533, 534, 352, 574, 187, 305, 23, 18, 615, 627, 648, 501, 695, 457, 195, 96, 357, 639, 767, 503, 479, 50, 358, 488, 55, 140, 27, 5, 745, 20, 232, 284, 684, 59, 415, 600, 735, 421, 269, 369, 590, 11, 192, 463, 370, 308, 203, 95, 756, 260, 251, 621, 272, 224, 263, 79, 742, 609, 112, 485, 610, 371, 607, 499, 304, 116, 210, 746, 16, 762, 94, 285, 274, 46, 73, 145, 494, 466, 710, 472, 161, 622, 430, 734, 631, 35, 134, 379, 219, 38, 575, 303, 755, 128, 593, 253, 416, 487, 121, 483, 403, 703, 624, 737, 42, 451, 321, 255, 545, 647, 405, 440, 181, 527, 185, 437, 261, 614, 36, 184, 404, 650, 179, 414, 364, 374, 601, 582, 452, 307, 216, 589, 546, 454, 217, 124, 637, 497, 653, 402, 655, 257, 34, 359, 330, 383, 150, 727, 372, 428, 231, 264, 389, 517, 564, 117, 509, 345, 473, 138, 354, 385, 478, 475, 563, 51, 491, 293, 728, 570, 314, 302, 445, 391, 289, 227, 705, 713, 97, 225, 388, 620, 317, 584, 279, 704, 39, 15, 278, 557, 326, 685, 426, 170, 572, 244, 271, 24, 522, 675, 91, 333, 766, 58, 129, 613, 306, 532, 132, 258, 214, 635, 539, 619, 390, 332, 486, 481, 618, 642, 693, 166, 712, 476, 337, 482, 229, 200, 407, 504, 295, 153, 30, 697, 275, 429, 698, 254, 459, 194, 206, 341, 28, 673, 376, 81, 171, 425, 115, 380, 495, 63, 163, 757, 82, 400, 151, 743, 147, 524, 343, 180, 149, 658, 568, 102, 158, 641, 461, 549, 2, 694, 668, 552, 54, 233, 689, 85, 654, 418, 1, 19, 325, 351, 670, 586, 740, 273, 569, 183, 43, 612, 88, 299, 169, 69, 92, 406, 643, 592, 611, 686, 739, 222, 84, 363, 749, 716, 33, 205, 247, 470, 122, 268, 682, 114, 297, 368, 706, 605, 329, 636, 566, 661, 530, 750, 480, 89, 412, 515, 681, 156, 644, 189, 496, 634, 353, 213, 702, 529, 270, 126, 736, 137, 199, 242, 218, 763, 662, 196, 212, 484, 375, 241, 221, 708, 3, 560, 408, 164, 327, 410, 381, 730, 319, 690, 587, 338, 467, 99, 554, 349, 239, 366, 322, 754, 245, 588, 335, 267, 14, 176, 581, 550, 646, 659, 733, 603, 604, 120, 311, 469, 365, 310, 223, 155, 141, 672, 719, 66, 350, 692, 215, 441, 32, 583, 729, 492, 130, 207, 591, 578, 596, 0, 291, 246, 226, 29, 439, 656, 318, 60, 347, 211, 47, 715, 64, 382, 384, 422, 201, 135, 281, 744, 237, 521, 396, 7, 559, 142, 759, 683, 577, 699, 70, 296, 696, 167, 49, 555, 80, 236, 22, 178, 594, 172, 500, 678, 65, 433, 758, 283, 512, 288, 252, 523, 40, 752, 562, 443, 764, 633, 671, 361, 313, 700, 489, 399, 300, 152, 111, 220, 420, 248, 76, 435, 67, 660, 616, 342, 667, 12, 597, 551, 732, 669, 148, 632, 462, 510, 493, 760, 548, 723, 765, 324, 77, 25, 108, 10, 109, 154, 645, 110, 511, 125, 57, 579, 424, 537, 514, 676, 336, 547, 432, 41, 123, 748, 312, 456, 630, 680, 718, 13, 133, 628, 576, 362, 174, 208, 506, 664, 724, 513, 45, 209, 567, 144, 526, 531, 725, 100, 625, 61, 298, 53, 17, 113, 104, 367, 738, 143, 626, 334, 423, 78, 606, 640, 159, 617, 107, 561, 316, 538, 292, 427, 52, 623, 398, 508, 519, 68, 468, 651, 162, 598, 230, 386, 75, 438, 477, 265, 714, 535, 449, 72, 393, 282, 280, 417, 465, 235, 679, 346, 309, 105]\n"
          ],
          "name": "stdout"
        }
      ]
    },
    {
      "cell_type": "code",
      "metadata": {
        "colab": {
          "base_uri": "https://localhost:8080/"
        },
        "id": "FMfci6TeSydp",
        "outputId": "5559c4ff-dc70-4072-e653-3d4faa5a04dc"
      },
      "source": [
        "from scipy.stats import spearmanr\n",
        "corr_values = []\n",
        "for dim in every_dim:\n",
        "    corr_values.append(abs(spearmanr(dim, reg_values)[0]))\n",
        "print(np.max(corr_values))\n",
        "sorted_dims = list(np.argsort(corr_values))\n",
        "sorted_dims.reverse()\n",
        "print(sorted_dims)"
      ],
      "execution_count": 10,
      "outputs": [
        {
          "output_type": "stream",
          "text": [
            "0.4579890008707501\n",
            "[411, 8, 9, 721, 687, 249, 518, 419, 741, 652, 175, 193, 119, 558, 323, 87, 90, 446, 21, 177, 62, 286, 103, 287, 498, 516, 290, 56, 474, 595, 447, 395, 127, 458, 377, 585, 657, 157, 83, 542, 331, 186, 146, 4, 448, 573, 301, 608, 74, 71, 190, 722, 394, 276, 711, 460, 528, 355, 26, 525, 701, 238, 277, 434, 188, 240, 751, 580, 202, 86, 98, 649, 520, 571, 228, 250, 505, 761, 48, 344, 340, 139, 565, 665, 602, 131, 373, 356, 731, 638, 256, 44, 674, 709, 320, 726, 753, 707, 294, 409, 266, 413, 747, 339, 431, 688, 540, 118, 191, 553, 31, 436, 392, 717, 544, 536, 455, 198, 450, 720, 502, 378, 490, 387, 556, 106, 101, 533, 501, 648, 37, 666, 590, 663, 360, 442, 677, 243, 543, 259, 401, 600, 315, 348, 629, 464, 232, 305, 444, 168, 197, 397, 195, 272, 615, 262, 599, 507, 503, 574, 173, 358, 204, 187, 93, 165, 59, 328, 421, 691, 639, 457, 5, 284, 471, 210, 695, 285, 488, 269, 136, 161, 541, 224, 18, 274, 234, 50, 6, 27, 453, 20, 38, 23, 745, 415, 308, 610, 609, 263, 379, 371, 756, 96, 735, 255, 73, 260, 767, 11, 534, 479, 352, 627, 304, 140, 762, 160, 463, 192, 46, 575, 181, 370, 416, 637, 734, 430, 121, 622, 357, 182, 321, 593, 746, 582, 94, 203, 710, 451, 216, 251, 601, 79, 359, 742, 653, 116, 466, 755, 404, 499, 684, 487, 134, 624, 452, 631, 703, 179, 472, 354, 128, 607, 170, 112, 184, 303, 124, 16, 253, 317, 437, 369, 345, 261, 402, 403, 440, 117, 302, 293, 257, 414, 675, 180, 55, 95, 51, 705, 388, 584, 614, 225, 621, 737, 655, 546, 364, 217, 54, 306, 145, 527, 563, 473, 214, 494, 611, 289, 647, 613, 383, 219, 374, 570, 454, 34, 545, 206, 497, 483, 391, 704, 330, 650, 766, 115, 185, 485, 372, 475, 231, 389, 425, 712, 478, 254, 39, 589, 491, 620, 376, 426, 138, 509, 42, 153, 30, 697, 227, 351, 728, 97, 713, 151, 568, 35, 332, 244, 641, 716, 522, 2, 539, 658, 405, 91, 273, 295, 385, 592, 459, 517, 694, 307, 275, 400, 482, 183, 333, 24, 495, 314, 689, 407, 337, 229, 129, 264, 743, 557, 418, 92, 654, 380, 341, 166, 258, 643, 618, 685, 429, 28, 560, 297, 572, 736, 163, 36, 3, 84, 271, 619, 549, 81, 682, 586, 698, 445, 19, 233, 727, 213, 82, 564, 326, 661, 126, 150, 1, 428, 686, 58, 480, 670, 329, 668, 218, 581, 15, 754, 196, 635, 470, 43, 476, 278, 757, 242, 14, 137, 504, 612, 102, 171, 412, 408, 406, 532, 164, 142, 279, 120, 69, 673, 194, 529, 245, 63, 343, 484, 381, 132, 47, 318, 176, 149, 88, 236, 642, 89, 739, 486, 158, 322, 296, 122, 596, 715, 481, 467, 215, 420, 363, 693, 740, 706, 384, 672, 530, 189, 267, 636, 550, 147, 221, 605, 327, 226, 270, 156, 552, 241, 749, 325, 66, 211, 199, 692, 583, 207, 515, 441, 569, 200, 205, 492, 410, 365, 496, 524, 375, 237, 646, 70, 633, 500, 506, 733, 656, 662, 671, 85, 763, 390, 49, 353, 566, 33, 78, 268, 64, 744, 361, 548, 178, 681, 212, 60, 347, 368, 169, 222, 758, 141, 65, 708, 349, 299, 461, 660, 759, 477, 155, 154, 80, 248, 350, 699, 702, 559, 512, 319, 439, 247, 578, 644, 338, 239, 521, 683, 729, 562, 588, 700, 396, 99, 123, 311, 579, 510, 324, 632, 310, 526, 246, 469, 659, 577, 690, 10, 551, 29, 738, 449, 76, 399, 152, 288, 678, 366, 201, 523, 634, 438, 148, 335, 669, 422, 603, 53, 640, 462, 555, 554, 309, 167, 587, 209, 435, 433, 443, 25, 113, 591, 493, 41, 0, 630, 283, 135, 730, 719, 696, 100, 281, 676, 750, 208, 220, 336, 32, 594, 312, 144, 22, 718, 57, 362, 72, 386, 12, 108, 68, 230, 105, 291, 342, 75, 511, 519, 114, 547, 626, 604, 67, 423, 13, 597, 367, 561, 223, 628, 316, 172, 130, 300, 282, 107, 456, 764, 508, 598, 313, 679, 489, 346, 724, 77, 531, 159, 616, 298, 468, 162, 125, 61, 538, 748, 765, 143, 45, 664, 752, 111, 514, 382, 334, 398, 623, 645, 252, 292, 109, 606, 567, 104, 424, 40, 432, 680, 52, 465, 280, 651, 723, 110, 576, 133, 427, 393, 513, 625, 760, 235, 417, 667, 7, 617, 732, 174, 535, 265, 714, 537, 17, 725]\n"
          ],
          "name": "stdout"
        }
      ]
    },
    {
      "cell_type": "code",
      "metadata": {
        "id": "y3PU3O5jV8D5"
      },
      "source": [
        ""
      ],
      "execution_count": null,
      "outputs": []
    }
  ]
}