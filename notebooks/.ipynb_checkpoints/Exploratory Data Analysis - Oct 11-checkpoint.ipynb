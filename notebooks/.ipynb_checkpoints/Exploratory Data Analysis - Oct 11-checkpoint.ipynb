{
 "cells": [
  {
   "cell_type": "code",
   "execution_count": 43,
   "metadata": {},
   "outputs": [],
   "source": [
    "import pandas as pd\n",
    "import nltk\n",
    "from nltk.corpus import stopwords\n",
    "from nltk.tokenize import word_tokenize\n",
    "import wordcloud\n",
    "import numpy as np"
   ]
  },
  {
   "cell_type": "code",
   "execution_count": 65,
   "metadata": {},
   "outputs": [],
   "source": [
    "DATA_DIR = '../data'\n",
    "TRAIN_DATA_DIR = DATA_DIR+'/train'\n",
    "T1_TRAIN = TRAIN_DATA_DIR+'/Task_1_train.jsonl'\n",
    "T1_DEV = TRAIN_DATA_DIR+'/Task_1_dev.jsonl'\n",
    "T2_TRAIN = TRAIN_DATA_DIR+'/Task_2_train.jsonl'\n",
    "T2_DEV = TRAIN_DATA_DIR+'/Task_2_dev.jsonl'"
   ]
  },
  {
   "cell_type": "code",
   "execution_count": 66,
   "metadata": {},
   "outputs": [],
   "source": [
    "all_files = [T1_TRAIN,T1_DEV,T2_TRAIN,T2_DEV]"
   ]
  },
  {
   "cell_type": "markdown",
   "metadata": {},
   "source": [
    "## Statistics"
   ]
  },
  {
   "cell_type": "code",
   "execution_count": 77,
   "metadata": {},
   "outputs": [
    {
     "ename": "SyntaxError",
     "evalue": "EOL while scanning string literal (<ipython-input-77-68c31393f6d1>, line 4)",
     "output_type": "error",
     "traceback": [
      "\u001b[0;36m  File \u001b[0;32m\"<ipython-input-77-68c31393f6d1>\"\u001b[0;36m, line \u001b[0;32m4\u001b[0m\n\u001b[0;31m    print(\"Samples: df.shape)\u001b[0m\n\u001b[0m                             ^\u001b[0m\n\u001b[0;31mSyntaxError\u001b[0m\u001b[0;31m:\u001b[0m EOL while scanning string literal\n"
     ]
    }
   ],
   "source": [
    "for fil in all_files:\n",
    "    print(\"Name: \",fil)\n",
    "    df = pd.read_json(fil,lines=True) ## Can also use jsonlines to read\n",
    "    print(\"Samples: \",df.shape[0])\n",
    "    print(\"Duplicates, if any: \",df[df.duplicated()].shape[0])\n",
    "    \n",
    "        \n",
    "    print(\"=\"*30)\n",
    "    print(\"Article Related\")\n",
    "    print(\"=\"*30)\n",
    "    \n",
    "    print(\"Duplicates, if any: \",df[df[['article']].duplicated()].shape[0])\n",
    "    article_char_length = df['article'].apply(lambda x : len(x))\n",
    "    print(\"Mean Char Count: \",article_char_length.mean())\n",
    "    print(\"Std Char Count: \",article_char_length.std())\n",
    "    print(\"Max Char Count: \",article_char_length.max())\n",
    "    print(\"Min Char Count: \",article_char_length.min())\n",
    "    \n",
    "    article_word_length = df['article'].apply(lambda x : len(x.split()))\n",
    "    print(\"Mean Word Count: \",article_word_length.mean())\n",
    "    print(\"Std Word Count: \",article_word_length.std())\n",
    "    print(\"Max Word Count: \",article_word_length.max())\n",
    "    print(\"Min Word Count: \",article_word_length.min())\n",
    "    \n",
    "    print(\"=\"*30)\n",
    "    print(\"Question Related\")\n",
    "    print(\"=\"*30)\n",
    "    print(df[df[['question']].duplicated()].shape)\n",
    "    question_char_length = df['question'].apply(lambda x : len(x))\n",
    "    print(\"Mean Char Count: \",question_char_length.mean())\n",
    "    print(\"Std Char Count: \",question_char_length.std())\n",
    "    print(\"Max Char Count: \",question_char_length.max())\n",
    "    print(\"Min Char Count: \",question_char_length.min())\n",
    "    \n",
    "    question_word_length = df['question'].apply(lambda x : len(x.split()))\n",
    "    print(\"Mean Word Count: \",question_word_length.mean())\n",
    "    print(\"Std Word Count: \",question_word_length.std())\n",
    "    print(\"Max Word Count: \",question_word_length.max())\n",
    "    print(\"Min Word Count: \",question_word_length.min())"
   ]
  },
  {
   "cell_type": "markdown",
   "metadata": {},
   "source": [
    "## Most Freq Words"
   ]
  },
  {
   "cell_type": "code",
   "execution_count": 69,
   "metadata": {},
   "outputs": [],
   "source": [
    "sw = set(stopwords.words('english'))"
   ]
  },
  {
   "cell_type": "code",
   "execution_count": 70,
   "metadata": {},
   "outputs": [],
   "source": [
    "df = pd.read_json(T1_TRAIN,lines=True)\n",
    "df['article']=df['article'].apply(lambda x : x.lower())"
   ]
  },
  {
   "cell_type": "code",
   "execution_count": 71,
   "metadata": {},
   "outputs": [],
   "source": [
    "text = df['article'].apply(lambda x : word_tokenize(x))"
   ]
  },
  {
   "cell_type": "code",
   "execution_count": 72,
   "metadata": {},
   "outputs": [],
   "source": [
    "text = text.apply(lambda x: np.array([y for y in x if y not in sw]))"
   ]
  },
  {
   "cell_type": "markdown",
   "metadata": {},
   "source": [
    "### WordCloud"
   ]
  },
  {
   "cell_type": "code",
   "execution_count": 40,
   "metadata": {},
   "outputs": [
    {
     "name": "stdout",
     "output_type": "stream",
     "text": [
      "Collecting wordcloud\n",
      "  Downloading wordcloud-1.8.0-cp38-cp38-manylinux1_x86_64.whl (372 kB)\n",
      "\u001b[K     |████████████████████████████████| 372 kB 125 kB/s eta 0:00:01\n",
      "\u001b[?25hRequirement already satisfied: matplotlib in /home/crocoder/anaconda3/lib/python3.8/site-packages (from wordcloud) (3.2.2)\n",
      "Requirement already satisfied: pillow in /home/crocoder/anaconda3/lib/python3.8/site-packages (from wordcloud) (7.2.0)\n",
      "Requirement already satisfied: numpy>=1.6.1 in /home/crocoder/anaconda3/lib/python3.8/site-packages (from wordcloud) (1.18.5)\n",
      "Requirement already satisfied: pyparsing!=2.0.4,!=2.1.2,!=2.1.6,>=2.0.1 in /home/crocoder/anaconda3/lib/python3.8/site-packages (from matplotlib->wordcloud) (2.4.7)\n",
      "Requirement already satisfied: python-dateutil>=2.1 in /home/crocoder/anaconda3/lib/python3.8/site-packages (from matplotlib->wordcloud) (2.8.1)\n",
      "Requirement already satisfied: cycler>=0.10 in /home/crocoder/anaconda3/lib/python3.8/site-packages (from matplotlib->wordcloud) (0.10.0)\n",
      "Requirement already satisfied: kiwisolver>=1.0.1 in /home/crocoder/anaconda3/lib/python3.8/site-packages (from matplotlib->wordcloud) (1.2.0)\n",
      "Requirement already satisfied: six>=1.5 in /home/crocoder/anaconda3/lib/python3.8/site-packages (from python-dateutil>=2.1->matplotlib->wordcloud) (1.15.0)\n",
      "Installing collected packages: wordcloud\n",
      "Successfully installed wordcloud-1.8.0\n"
     ]
    }
   ],
   "source": []
  },
  {
   "cell_type": "code",
   "execution_count": null,
   "metadata": {},
   "outputs": [],
   "source": []
  }
 ],
 "metadata": {
  "kernelspec": {
   "display_name": "Python 3",
   "language": "python",
   "name": "python3"
  },
  "language_info": {
   "codemirror_mode": {
    "name": "ipython",
    "version": 3
   },
   "file_extension": ".py",
   "mimetype": "text/x-python",
   "name": "python",
   "nbconvert_exporter": "python",
   "pygments_lexer": "ipython3",
   "version": "3.8.3"
  }
 },
 "nbformat": 4,
 "nbformat_minor": 4
}
